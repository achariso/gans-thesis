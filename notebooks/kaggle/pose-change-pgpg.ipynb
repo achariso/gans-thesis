{
 "cells": [
  {
   "cell_type": "markdown",
   "metadata": {},
   "source": [
    "## 1.1) Fetch Img.zip file and define paths\n",
    "Run provided cell code to fetch dataset from Google Drive. Then define dataset paths relative to mount point."
   ]
  },
  {
   "cell_type": "code",
   "execution_count": null,
   "metadata": {
    "_cell_guid": "b1076dfc-b9ad-4769-8c92-a6c4dae69d19",
    "_uuid": "8f2839f25d086af736a60e9eeb907d3b93b6e0e5"
   },
   "outputs": [],
   "source": [
    "import os\n",
    "\n",
    "df_icrb_root = '/kaggle/working/data/Datasets/DeepFashion/In-shop Clothes Retrieval Benchmark'\n",
    "\n",
    "if not os.path.exists(df_icrb_root):\n",
    "    !conda install -y gdown\n",
    "    !gdown --id \"14O0JBCHEFjE4RImV3to6UWmIgQa08PrB\"\n",
    "    !mkdir -p \"$df_icrb_root\"\n",
    "    !mkdir -p \"$df_icrb_root\"\n",
    "    !mv /kaggle/working/Img.zip \"$df_icrb_root\"/"
   ]
  },
  {
   "cell_type": "markdown",
   "metadata": {},
   "source": [
    "## 1.2) Unzip Img directory in Kaggle\n",
    "By unzipping the Img_processed.zip in Kaggle before running our model we gain significant disk reading speedups.\n",
    "So, the first step is to unzip images directory, and then save the image directory before proceeding."
   ]
  },
  {
   "cell_type": "code",
   "execution_count": null,
   "metadata": {},
   "outputs": [],
   "source": [
    "df_icrb_img_root = f'{df_icrb_root}/Img'\n",
    "if not os.path.exists(df_icrb_img_root):\n",
    "    # Check that zip file is already there\n",
    "    assert os.path.exists(f'{df_icrb_root}/Img.zip')\n",
    "    # Unzip it in Kaggle\n",
    "    !unzip -q \"$df_icrb_root\"/Img.zip -d \"$df_icrb_root\"\n",
    "    # Handle newly-created image directory\n",
    "    assert os.path.exists(df_icrb_img_root), f'df_icrb_img_root: {df_icrb_img_root}'\n",
    "    assert not os.path.exists(f'{df_icrb_img_root}/Img')\n",
    "    !rm -f \"$df_icrb_root\"/Img.zip\n",
    "    assert not os.path.exists(f'{df_icrb_root}/Img.zip')"
   ]
  },
  {
   "cell_type": "markdown",
   "metadata": {},
   "source": [
    "## 1.3) Clone github repo\n",
    "Clone achariso/gans-thesis repo into /content/code\n",
    " using git clone.\n",
    " For more info see: https://medium.com/@purba0101/how-to-clone-private-github-repo-in-google-colab-using-ssh-77384cfef18f"
   ]
  },
  {
   "cell_type": "code",
   "execution_count": null,
   "metadata": {
    "_kg_hide-output": false
   },
   "outputs": [],
   "source": [
    "repo_root = '/kaggle/working/code/gans-thesis'\n",
    "if not os.path.exists(repo_root) and not os.path.exists(f'{repo_root}/requirements.txt'):\n",
    "    # Check that ssh keys exist\n",
    "    assert os.path.exists(f'/kaggle/input/git-keys')\n",
    "    id_rsa_abs_drive = f'/kaggle/input/git-keys/id_rsa'\n",
    "    id_rsa_pub_abs_drive = f'{id_rsa_abs_drive}.pub'\n",
    "    assert os.path.exists(id_rsa_abs_drive)\n",
    "    assert os.path.exists(id_rsa_pub_abs_drive)\n",
    "    # On first run: Add ssh key in repo\n",
    "    # !cat \"$id_rsa_pub_abs_drive\", copy & paste in repo's Deploy Keys\n",
    "    # Transfer config file\n",
    "    ssh_config_abs_drive = f'/kaggle/input/git-keys/config'\n",
    "    assert os.path.exists(ssh_config_abs_drive)\n",
    "    !mkdir -p ~/.ssh\n",
    "    !cp -f \"$ssh_config_abs_drive\" ~/.ssh/\n",
    "    # # Add github.com to known hosts\n",
    "    !ssh-keyscan -t rsa github.com >> ~/.ssh/known_hosts\n",
    "    # Test: !ssh -T git@github.com\n",
    "\n",
    "    # Remove any previous attempts\n",
    "    !rm -rf \"$repo_root\"\n",
    "    !mkdir -p \"$repo_root\"\n",
    "    # Clone repo\n",
    "    !git clone git@github.com:achariso/gans-thesis.git \"$repo_root\"\n",
    "    src_root = f'{repo_root}/src'\n",
    "    !rm -rf \"$repo_root\"/report"
   ]
  },
  {
   "cell_type": "markdown",
   "metadata": {},
   "source": [
    "## 1.4) Install pip packages\n",
    "All required files are stored in a requirements.txt files at the repository's root.\n",
    "Use `pip install -r requirements.txt` from inside the dir to install required packages."
   ]
  },
  {
   "cell_type": "code",
   "execution_count": null,
   "metadata": {},
   "outputs": [],
   "source": [
    "%cd $repo_root\n",
    "!pip install -r requirements.txt\n",
    "\n",
    "import torch\n",
    "assert str(torch.__version__).startswith('1.7')"
   ]
  },
  {
   "cell_type": "markdown",
   "metadata": {},
   "source": [
    "## 1.5) Add code/, */src/ to path\n",
    "This is necessary in order to be able to run the modules."
   ]
  },
  {
   "cell_type": "code",
   "execution_count": null,
   "metadata": {},
   "outputs": [],
   "source": [
    "content_root_abs = f'{repo_root}'\n",
    "src_root_abs = f'{repo_root}/src'\n",
    "%env PYTHONPATH=\"/kaggle/lib/kagglegym:/kaggle/lib:$content_root_abs:$src_root_abs\""
   ]
  },
  {
   "cell_type": "markdown",
   "metadata": {},
   "source": [
    "# 2) Test code\n",
    "Test that pulled code is running by running its tests."
   ]
  },
  {
   "cell_type": "code",
   "execution_count": null,
   "metadata": {},
   "outputs": [],
   "source": [
    "import matplotlib.pyplot as plt\n",
    "\n",
    "# Fix: Adjust figure size for better plotting in Colab\n",
    "plt.rcParams[\"figure.figsize\"] = (20, 20)\n",
    "\n",
    "%run src/main.py"
   ]
  },
  {
   "cell_type": "code",
   "execution_count": null,
   "metadata": {},
   "outputs": [],
   "source": [
    "test_root = f'{repo_root}/tests'\n",
    "!python -m unittest discover -s \"$test_root\" -t \"$test_root\""
   ]
  }
 ],
 "metadata": {
  "kernelspec": {
   "display_name": "Python 3",
   "language": "python",
   "name": "python3"
  },
  "language_info": {
   "codemirror_mode": {
    "name": "ipython",
    "version": 3
   },
   "file_extension": ".py",
   "mimetype": "text/x-python",
   "name": "python",
   "nbconvert_exporter": "python",
   "pygments_lexer": "ipython3",
   "version": "3.8.5"
  }
 },
 "nbformat": 4,
 "nbformat_minor": 4
}