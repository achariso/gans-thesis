{
 "cells": [
  {
   "cell_type": "markdown",
   "id": "5df76d13",
   "metadata": {},
   "source": [
    "# 1) Mount drive, unzip data, clone repo, install packages\n",
    "\n",
    "## 1.1) Define paths\n",
    "Main Google Drive root: `/workspace/GoogleDrive`"
   ]
  },
  {
   "cell_type": "code",
   "execution_count": null,
   "id": "8a89b47e",
   "metadata": {},
   "outputs": [],
   "source": [
    "import os\n",
    "from ipywidgets import FileUpload\n",
    "\n",
    "# Define Google Drive related paths\n",
    "drive_root = \"/workspace/GoogleDrive\"\n",
    "!mkdir -p \"$drive_root\"\n",
    "!mkdir -p \"$drive_root/Models\"\n",
    "!mkdir -p \"$drive_root/Datasets\"\n",
    "!mkdir -p \"$drive_root/GitHub Keys\"\n",
    "\n",
    "# Upload ssh keys\n",
    "is_first_run = not os.path.exists(f'{drive_root}/GitHub Keys/config') or not os.path.exists(f'{drive_root}/GitHub Keys/id_rsa') or not os.path.exists(f'{drive_root}/client_secrets.json')\n",
    "if is_first_run:\n",
    "    #   - config\n",
    "    with open(f'{drive_root}/GitHub Keys/config', 'w') as fp:\n",
    "        fp.writelines(['Host github.com\\n', '    Hostname github.com\\n', f'    IdentityFile \"{drive_root}/GitHub Keys/id_rsa\"\\n', '    IdentitiesOnly yes\\n'])\n",
    "    #   - id_rsa.pub\n",
    "    upload = FileUpload(multiple=True)\n",
    "    display(upload)"
   ]
  },
  {
   "cell_type": "code",
   "execution_count": null,
   "id": "f7d0f3ca",
   "metadata": {},
   "outputs": [],
   "source": [
    "if is_first_run:\n",
    "    with open(f'{drive_root}/GitHub Keys/id_rsa', 'wb') as i:\n",
    "        i.write(upload.value['id_rsa']['content'])\n",
    "    !chmod 600 \"$drive_root/GitHub Keys/id_rsa\"\n",
    "    with open(f'{drive_root}/GitHub Keys/id_rsa.pub', 'wb') as i:\n",
    "        i.write(upload.value['id_rsa.pub']['content'])\n",
    "    !chmod 600 \"$drive_root/GitHub Keys/id_rsa.pub\"\n",
    "\n",
    "    # client_secrets.json\n",
    "    with open(f'{drive_root}/client_secrets.json', 'wb') as i:\n",
    "        i.write(upload.value['client_secrets.json']['content'])\n",
    "    \n",
    "    # kaggle.json\n",
    "    with open(f'/workspace/kaggle.json', 'wb') as i:\n",
    "        i.write(upload.value['kaggle.json']['content'])\n",
    "    !mkdir -p /root/.kaggle\n",
    "    !cp -rf /workspace/kaggle.json /root/.kaggle/\n",
    "    !chmod 600 /root/.kaggle/kaggle.json"
   ]
  },
  {
   "cell_type": "markdown",
   "id": "03840efa",
   "metadata": {},
   "source": [
    "## 1.2) Clone GitHub repo\n",
    "Clone achariso/gans-thesis repo into /content/code using git clone.\n",
    "For more info see: https://medium.com/@purba0101/how-to-clone-private-github-repo-in-google-colab-using-ssh-77384cfef18f"
   ]
  },
  {
   "cell_type": "code",
   "execution_count": null,
   "id": "65fc44e3",
   "metadata": {},
   "outputs": [],
   "source": [
    "if is_first_run:\n",
    "    !conda install git -y\n",
    "\n",
    "import os\n",
    "\n",
    "repo_root = '/workspace/code/gans-thesis'\n",
    "ssh_root = '/root/.ssh'\n",
    "!rm -rf \"$repo_root\"\n",
    "!rm -rf \"$ssh_root\"\n",
    "if not os.path.exists(repo_root) and not os.path.exists(f'{repo_root}/requirements.txt'):\n",
    "    # Check that ssh keys exist\n",
    "    assert os.path.exists(f'{drive_root}/GitHub Keys')\n",
    "    id_rsa_abs_drive = f'{drive_root}/GitHub Keys/id_rsa'\n",
    "    id_rsa_pub_abs_drive = f'{id_rsa_abs_drive}.pub'\n",
    "    assert os.path.exists(id_rsa_abs_drive)\n",
    "    assert os.path.exists(id_rsa_pub_abs_drive)\n",
    "    # On first run: Add ssh key in repo\n",
    "    if not os.path.exists(ssh_root) or True:\n",
    "        # Transfer config file\n",
    "        ssh_config_abs_drive = f'{drive_root}/GitHub Keys/config'\n",
    "        assert os.path.exists(ssh_config_abs_drive)\n",
    "        !mkdir -p \"$ssh_root\"\n",
    "        !cp -f \"$ssh_config_abs_drive\" \"$ssh_root/\"\n",
    "        # Add github.com to known hosts\n",
    "        !ssh-keyscan -t rsa github.com >> \"$ssh_root/known_hosts\"\n",
    "        # Test: !ssh -T git@github.com\n",
    "\n",
    "    # Remove any previous attempts\n",
    "    !rm -rf \"$repo_root\"\n",
    "    !mkdir -p \"$repo_root\"\n",
    "    # Clone repo\n",
    "    !ssh -o StrictHostKeyChecking=no github.com\n",
    "    !git clone git@github.com:achariso/gans-thesis.git \"$repo_root\" -o StrictHostKeyChecking=no\n",
    "    src_root = f'{repo_root}/src'\n",
    "    !rm -rf \"$repo_root\"/report"
   ]
  },
  {
   "cell_type": "markdown",
   "id": "6501d933",
   "metadata": {},
   "source": [
    "## 1.3) Install pip packages\n",
    "All required files are stored in a requirements.txt files at the repository's root.\n",
    "Use `pip install -r requirements.txt` from inside the dir to install required packages."
   ]
  },
  {
   "cell_type": "code",
   "execution_count": null,
   "id": "6e6ba54d",
   "metadata": {},
   "outputs": [],
   "source": [
    "%cd \"$repo_root\"\n",
    "!pip install -r requirements.txt\n",
    "!pip install kaggle --upgrade\n",
    "\n",
    "# import os\n",
    "# os.kill(os.getpid(), 9)"
   ]
  },
  {
   "cell_type": "markdown",
   "id": "706a128d",
   "metadata": {},
   "source": [
    "## 1.4) Add code/, */src/ to path\n",
    "This is necessary in order to be able to run the modules."
   ]
  },
  {
   "cell_type": "code",
   "execution_count": null,
   "id": "ec0bea48",
   "metadata": {},
   "outputs": [],
   "source": [
    "content_root_abs = f'{repo_root}'\n",
    "src_root_abs = f'{repo_root}/src'\n",
    "%env PYTHONPATH=\"/env/python:$content_root_abs:$src_root_abs\""
   ]
  },
  {
   "cell_type": "markdown",
   "id": "f354c76d",
   "metadata": {},
   "source": [
    "# 2) Train StyleGAN model on DeepFashion's Fashion Image Synthesis Benchmark dataset\n",
    "In this section we run the actual training loop for StyleGAN network. StyleGAN consists of a stylized generator and a\n",
    "fairly naive discriminator architecture. Both however are progressively grown, starting from a resolution of 4x4 up to\n",
    "the final resolution fo 128x128.\n",
    "\n",
    "## Download dataset from Kaggle instead of Google Drive\n",
    "This results in much - much faster download times."
   ]
  },
  {
   "cell_type": "code",
   "execution_count": null,
   "id": "649c602c",
   "metadata": {},
   "outputs": [],
   "source": [
    "# Download Dataset from Kaggle\n",
    "if not os.path.exists(f'/workspace/deepfashion-fisb-zip.zip'):\n",
    "    !kaggle datasets download achariso/deepfashion-fisb-zip -p /workspace"
   ]
  },
  {
   "cell_type": "markdown",
   "id": "c0310e7f",
   "metadata": {
    "pycharm": {
     "name": "#%% md\n"
    }
   },
   "source": [
    "### StyleGAN Training\n",
    "\n",
    "Eventually, run the code!"
   ]
  },
  {
   "cell_type": "code",
   "execution_count": null,
   "outputs": [],
   "source": [
    "%cd src/modules/stylegan3\n",
    "%run -i train.py \\\n",
    "    --outdir=/workspace/training-runs \\\n",
    "    --cfg=stylegan3-t \\\n",
    "    --data=/workspace/deepfashion-fisb-zip.zip \\\n",
    "    --cbase=16384 \\\n",
    "    --gpus=1 \\\n",
    "    --batch=32 \\\n",
    "    --gamma=0.5 \\\n",
    "    --batch-gpu=24 \\\n",
    "    --snap=10 \\\n",
    "    --metrics=fid50k"
   ],
   "metadata": {
    "collapsed": false,
    "pycharm": {
     "name": "#%%\n"
    }
   }
  }
 ],
 "metadata": {
  "kernelspec": {
   "display_name": "Python 3 (ipykernel)",
   "language": "python",
   "name": "python3"
  },
  "language_info": {
   "codemirror_mode": {
    "name": "ipython",
    "version": 3
   },
   "file_extension": ".py",
   "mimetype": "text/x-python",
   "name": "python",
   "nbconvert_exporter": "python",
   "pygments_lexer": "ipython3",
   "version": "3.7.10"
  }
 },
 "nbformat": 4,
 "nbformat_minor": 5
}