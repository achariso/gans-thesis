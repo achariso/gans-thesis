{
 "cells": [
  {
   "cell_type": "markdown",
   "metadata": {},
   "source": [
    "# 1) Mount drive, unzip data, clone repo, install packages\n",
    "\n",
    "## 1.1) Define paths\n",
    "Main Google Drive root: `/workspace/GoogleDrive`\n"
   ]
  },
  {
   "cell_type": "code",
   "execution_count": null,
   "metadata": {},
   "outputs": [],
   "source": [
    "import os\n",
    "from ipywidgets import FileUpload\n",
    "\n",
    "# Define Google Drive related paths\n",
    "drive_root = \"/workspace/GoogleDrive\"\n",
    "!mkdir -p \"$drive_root\"\n",
    "!mkdir -p \"$drive_root/Models\"\n",
    "!mkdir -p \"$drive_root/Datasets\"\n",
    "!mkdir -p \"$drive_root/GitHub Keys\"\n",
    "\n",
    "# Upload ssh keys\n",
    "if not os.path.exists(f'{drive_root}/GitHub Keys/config') or not (f'{drive_root}/GitHub Keys/id_rsa') or not os.path.exists(f'{drive_root}/client_secrets.json'):\n",
    "    #   - config\n",
    "    with open(f'{drive_root}/GitHub Keys/config', 'w') as fp:\n",
    "        fp.writelines(['Host github.com\\n', '    Hostname github.com\\n', f'    IdentityFile \"{drive_root}/GitHub Keys/id_rsa\"\\n', '    IdentitiesOnly yes\\n'])\n",
    "    #   - id_rsa.pub\n",
    "    upload = FileUpload(multiple=True)\n",
    "    upload"
   ]
  },
  {
   "cell_type": "code",
   "execution_count": null,
   "metadata": {},
   "outputs": [],
   "source": [
    "if not os.path.exists(f'{drive_root}/GitHub Keys/config') or not (f'{drive_root}/GitHub Keys/id_rsa') or not os.path.exists(f'{drive_root}/client_secrets.json'):\n",
    "    with open(f'{drive_root}/GitHub Keys/id_rsa', 'w+b') as i:\n",
    "        i.write(upload.value['id_rsa']['content'])\n",
    "    !chmod 600 \"$drive_root/GitHub Keys/id_rsa\"\n",
    "    with open(f'{drive_root}/GitHub Keys/id_rsa.pub', 'w+b') as i:\n",
    "        i.write(upload.value['id_rsa.pub']['content'])\n",
    "    !chmod 600 \"$drive_root/GitHub Keys/id_rsa.pub\"\n",
    "\n",
    "    # client_secrets.json\n",
    "    with open(f'{drive_root}/client_secrets.json', 'w+b') as i:\n",
    "        i.write(upload.value['client_secrets.json']['content'])"
   ]
  },
  {
   "cell_type": "code",
   "execution_count": null,
   "metadata": {},
   "outputs": [],
   "source": []
  },
  {
   "cell_type": "markdown",
   "metadata": {},
   "source": [
    "## 1.2) Clone GitHub repo\n",
    "Clone achariso/gans-thesis repo into /content/code using git clone.\n",
    "For more info see: https://medium.com/@purba0101/how-to-clone-private-github-repo-in-google-colab-using-ssh-77384cfef18f"
   ]
  },
  {
   "cell_type": "code",
   "execution_count": null,
   "metadata": {},
   "outputs": [],
   "source": [
    "# !conda install git -y\n",
    "\n",
    "import os\n",
    "\n",
    "repo_root = '/workspace/code/gans-thesis'\n",
    "ssh_root = '/root/.ssh'\n",
    "!rm -rf \"$repo_root\"\n",
    "!rm -rf \"$ssh_root\"\n",
    "if not os.path.exists(repo_root) and not os.path.exists(f'{repo_root}/requirements.txt'):\n",
    "    # Check that ssh keys exist\n",
    "    assert os.path.exists(f'{drive_root}/GitHub Keys')\n",
    "    id_rsa_abs_drive = f'{drive_root}/GitHub Keys/id_rsa'\n",
    "    id_rsa_pub_abs_drive = f'{id_rsa_abs_drive}.pub'\n",
    "    assert os.path.exists(id_rsa_abs_drive)\n",
    "    assert os.path.exists(id_rsa_pub_abs_drive)\n",
    "    # On first run: Add ssh key in repo\n",
    "    if not os.path.exists(ssh_root) or True:\n",
    "        # Transfer config file\n",
    "        ssh_config_abs_drive = f'{drive_root}/GitHub Keys/config'\n",
    "        assert os.path.exists(ssh_config_abs_drive)\n",
    "        !mkdir -p \"$ssh_root\"\n",
    "        !cp -f \"$ssh_config_abs_drive\" \"$ssh_root/\"\n",
    "        # # Add github.com to known hosts\n",
    "        !ssh-keyscan -t rsa github.com >> \"$ssh_root/known_hosts\"\n",
    "        # Test: !ssh -T git@github.com\n",
    "\n",
    "    # Remove any previous attempts\n",
    "    !rm -rf \"$repo_root\"\n",
    "    !mkdir -p \"$repo_root\"\n",
    "    # Clone repo\n",
    "    !ssh -o StrictHostKeyChecking=no github.com\n",
    "    !git clone git@github.com:achariso/gans-thesis.git \"$repo_root\" -o StrictHostKeyChecking=no\n",
    "    src_root = f'{repo_root}/src'\n",
    "    !rm -rf \"$repo_root\"/report"
   ]
  },
  {
   "cell_type": "markdown",
   "metadata": {},
   "source": [
    "## 1.3) Install pip packages\n",
    "All required files are stored in a requirements.txt files at the repository's root.\n",
    "Use `pip install -r requirements.txt` from inside the dir to install required packages."
   ]
  },
  {
   "cell_type": "code",
   "execution_count": null,
   "metadata": {},
   "outputs": [],
   "source": [
    "%cd \"$repo_root\"\n",
    "!pip install -r requirements.txt"
   ]
  },
  {
   "cell_type": "code",
   "execution_count": null,
   "metadata": {},
   "outputs": [],
   "source": [
    "# import os\n",
    "# os.kill(os.getpid(), 9)"
   ]
  },
  {
   "cell_type": "markdown",
   "metadata": {},
   "source": [
    "## 1.4) Add code/, */src/ to path\n",
    "This is necessary in order to be able to run the modules."
   ]
  },
  {
   "cell_type": "code",
   "execution_count": null,
   "metadata": {},
   "outputs": [],
   "source": [
    "content_root_abs = f'{repo_root}'\n",
    "src_root_abs = f'{repo_root}/src'\n",
    "%env PYTHONPATH=\"/env/python:$content_root_abs:$src_root_abs\""
   ]
  },
  {
   "cell_type": "code",
   "execution_count": null,
   "metadata": {},
   "outputs": [],
   "source": []
  },
  {
   "cell_type": "markdown",
   "metadata": {},
   "source": [
    "# 2) Train CycleGAN model on Bags2Shoes_64 dataset\n",
    "In this section we run the actual training loop for CycleGAN network. CycleGAN consists of two cross-domain generators and, in our version, two PatchGAN discriminators."
   ]
  },
  {
   "cell_type": "code",
   "execution_count": null,
   "metadata": {},
   "outputs": [],
   "source": [
    "chkpt_step = 'latest'  # supported: 'latest', <int>, None\n",
    "log_level = 'debug'    # supported: 'debug', 'info', 'warning', 'error', 'critical', 'fatal'\n",
    "device = 'cuda'        # supported: 'cpu', 'cuda', 'cuda:<GPU_INDEX>'\n",
    "\n",
    "# Running with -i enables us to get variables defined inside the script (the script runs inline)\n",
    "%run -i src/train_setup.py --log_level $log_level --chkpt_step $chkpt_step --seed 42 --device $device -use_refresh_token"
   ]
  },
  {
   "cell_type": "markdown",
   "metadata": {},
   "source": [
    "### CycleGAN Training\n",
    "\n",
    "Setup/preparation before starting CycleGAN training loop."
   ]
  },
  {
   "cell_type": "code",
   "execution_count": null,
   "metadata": {},
   "outputs": [],
   "source": [
    "%cd 'src/'\n",
    "\n",
    "import torch\n",
    "from IPython.core.display import display\n",
    "from torch import Tensor\n",
    "from torch.nn import DataParallel\n",
    "# noinspection PyProtectedMember\n",
    "from torch.utils.data import DataLoader\n",
    "\n",
    "from datasets.bags2shoes import Bags2ShoesDataset, Bags2ShoesDataloader\n",
    "from modules.cycle_gan import CycleGAN\n",
    "from utils.dep_free import get_tqdm\n",
    "from utils.ifaces import FilesystemDataset\n",
    "from utils.metrics import GanEvaluator\n",
    "\n",
    "# FIX\n",
    "torch.cuda.empty_cache()\n",
    "\n",
    "###################################\n",
    "###  Hyper-parameters settings  ###\n",
    "###################################\n",
    "# TODO: finish this notebook and train in Colab/Kaggle\n",
    "#   - training\n",
    "n_epochs = 300\n",
    "batch_size = 128 if not run_locally else 2\n",
    "train_test_splits = [90, 10]  # for a 90% training - 10% evaluation set split\n",
    "#   - evaluation\n",
    "metrics_n_samples = 1000 if not run_locally else 2\n",
    "metrics_batch_size = 32 if not run_locally else 1\n",
    "f1_k = 3 if not run_locally else 1\n",
    "#   - visualizations / checkpoints steps\n",
    "display_step = 200\n",
    "checkpoint_step = 600\n",
    "metrics_step = 1800  # evaluate model every 3 checkpoints\n",
    "#   - dataset\n",
    "target_shape = 64\n",
    "target_channels = 3\n",
    "#   - CycleGAN configuration\n",
    "ccgan_config_id = '64_MSE_L1_L1_2_9_2_9_64_3_1e4_false_false_false'  # close to DiscoGAN paper + half precision\n",
    "\n",
    "###################################\n",
    "###   Dataset Initialization    ###\n",
    "###################################\n",
    "#   - image transforms:\n",
    "#     If target_shape is different from load one, resize & crop. If target_shape is different from load shape,\n",
    "#     convert to grayscale.\n",
    "#     Update: Now done automatically if you set target_channels, target_shape when instantiating the dataloader.\n",
    "gen_transforms = Bags2ShoesDataset.get_image_transforms(target_shape=target_shape, target_channels=target_channels)\n",
    "#   - the dataloader used to access the training dataset of cross-scale/pose image pairs at every epoch\n",
    "#     > len(dataloader) = <number of batches>\n",
    "#     > len(dataloader.dataset) = <number of total dataset items>\n",
    "dataloader = Bags2ShoesDataloader(dataset_fs_folder_or_root=datasets_groot, batch_size=batch_size,\n",
    "                                  image_transforms=gen_transforms, splits=train_test_splits,\n",
    "                                  pin_memory=not run_locally, log_level=log_level)\n",
    "dataset = dataloader.dataset  # save training dataset as `dataset`\n",
    "#   - ensure dataset is fetched locally and unzipped\n",
    "if isinstance(dataset, FilesystemDataset):\n",
    "    dataset.fetch_and_unzip(in_parallel=False, show_progress=True)\n",
    "elif hasattr(dataset, 'dataset') and isinstance(dataset.dataset, FilesystemDataset):\n",
    "    dataset.dataset.fetch_and_unzip(in_parallel=False, show_progress=True)\n",
    "else:\n",
    "    raise TypeError('dataset must implement utils.ifaces.FilesystemDataset in order to be auto-downloaded and unzipped')\n",
    "#   - apply rudimentary tests\n",
    "assert issubclass(dataloader.__class__, DataLoader)\n",
    "assert len(dataloader) == len(dataset) // batch_size + (1 if len(dataset) % batch_size else 0)\n",
    "_bags, _shoes = next(iter(dataloader))\n",
    "assert tuple(_bags.shape) == (batch_size, target_channels, target_shape, target_shape)\n",
    "assert tuple(_shoes.shape) == (batch_size, target_channels, target_shape, target_shape)\n",
    "\n",
    "###################################\n",
    "###    Models Initialization    ###\n",
    "###################################\n",
    "#   - initialize evaluator instance (used to run GAN evaluation metrics: FID, IS, PRECISION, RECALL, F1 and SSIM)\n",
    "evaluator = GanEvaluator(model_fs_folder_or_root=models_groot, gen_dataset=dataset, target_index=1, device=exec_device,\n",
    "                         condition_indices=(0,), n_samples=metrics_n_samples, batch_size=metrics_batch_size,\n",
    "                         f1_k=f1_k)\n",
    "#   - initialize model\n",
    "chkpt_step = args.chkpt_step\n",
    "try:\n",
    "    if chkpt_step == 'latest':\n",
    "        ccgan_chkpt_step = chkpt_step\n",
    "    elif isinstance(chkpt_step, str) and chkpt_step.isdigit():\n",
    "        ccgan_chkpt_step = int(chkpt_step)\n",
    "    else:\n",
    "        ccgan_chkpt_step = None\n",
    "except NameError:\n",
    "    ccgan_chkpt_step = None\n",
    "ccgan = CycleGAN(model_fs_folder_or_root=models_groot, config_id=ccgan_config_id, dataset_len=len(dataset),\n",
    "                 chkpt_epoch=ccgan_chkpt_step, evaluator=evaluator, device=exec_device, log_level=log_level)\n",
    "ccgan.logger.debug(f'Using device: {str(exec_device)}')\n",
    "ccgan.logger.debug(f'Model initialized. Number of params = {ccgan.nparams_hr}')\n",
    "# FIX: Warmup counters before first batch\n",
    "if ccgan.step is None:\n",
    "    ccgan.gforward(batch_size=batch_size)\n",
    "    ccgan.logger.debug(f'Model warmed-up (internal counters).')\n",
    "#   - setup multi-GPU training\n",
    "if torch.cuda.device_count() > 1:\n",
    "    ccgan.gen = DataParallel(ccgan.gen)\n",
    "    ccgan.info(f'Using {torch.cuda.device_count()} GPUs for CycleGAN Generator (via torch.nn.DataParallel)')\n",
    "#   - load dataloader state (from model checkpoint)\n",
    "if 'dataloader' in ccgan.other_state_dicts.keys():\n",
    "    dataloader.set_state(ccgan.other_state_dicts['dataloader'])\n",
    "    ccgan.logger.debug(f'Loaded dataloader state! Current pem_index={dataloader.get_state()[\"perm_index\"]}')\n",
    "\n",
    "# FIX: Change batch size (if needed)\n",
    "ccgan.update_batch_size(batch_size, sampler_instance=dataloader.sampler)"
   ]
  },
  {
   "cell_type": "markdown",
   "metadata": {},
   "source": [
    "### CycleGAN Main training loop\n",
    "\n",
    "Start/continue training CycleGAN until reaching the desired number of epochs."
   ]
  },
  {
   "cell_type": "code",
   "execution_count": null,
   "metadata": {},
   "outputs": [],
   "source": [
    "# Decrease LR\n",
    "ccgan.update_lr(gen_new_lr=1e-5, disc_new_lr=1e-5)\n",
    "\n",
    "###################################\n",
    "###       Training Loop         ###\n",
    "###################################\n",
    "#   - get the correct tqdm instance\n",
    "exec_tqdm = get_tqdm()\n",
    "#   - start training loop from last checkpoint's epoch and step\n",
    "torch.cuda.empty_cache()\n",
    "gcapture_ready = True\n",
    "async_results = None\n",
    "ccgan.logger.info(f'[training loop] STARTING (epoch={ccgan.epoch}, step={ccgan.initial_step})')\n",
    "for epoch in range(ccgan.epoch, n_epochs):\n",
    "    # noinspection PyProtectedMember\n",
    "    d = {\n",
    "        'step': ccgan.step,\n",
    "        'initial_step': ccgan.initial_step,\n",
    "        'epoch': ccgan.epoch,\n",
    "        '_counter': ccgan._counter,\n",
    "        'epoch_inc': ccgan.epoch_inc,\n",
    "    }\n",
    "    # initial_step = ccgan.initial_step % len(dataloader)\n",
    "    ccgan.logger.debug('[START OF EPOCH] ' + str(d))\n",
    "\n",
    "    bags: Tensor\n",
    "    shoes: Tensor\n",
    "    for bags, shoes in exec_tqdm(dataloader, initial=ccgan.initial_step):\n",
    "        # Transfer image batches to GPU\n",
    "        bags = bags.to(exec_device)\n",
    "        shoes = shoes.to(exec_device)\n",
    "\n",
    "        # Perform a forward + backward pass + weight update on the Generator & Discriminator models\n",
    "        disc_loss, gen_loss = ccgan(bags, shoes)\n",
    "\n",
    "        # Metrics & Checkpoint Code\n",
    "        if ccgan.step % checkpoint_step == 0:\n",
    "            # Check if another upload is pending\n",
    "            if not gcapture_ready and async_results:\n",
    "                # Wait for previous upload to finish\n",
    "                ccgan.logger.warning('Waiting for previous gcapture() to finish...')\n",
    "                [r.wait() for r in async_results]\n",
    "                ccgan.logger.warning('DONE! Starting new capture now.')\n",
    "            # Capture current model state, including metrics and visualizations\n",
    "            async_results = ccgan.gcapture(checkpoint=True, metrics=ccgan.step % metrics_step == 0, visualizations=True,\n",
    "                                           dataloader=dataloader, in_parallel=True, show_progress=True,\n",
    "                                           delete_after=True)\n",
    "        # Visualization code\n",
    "        elif ccgan.step % display_step == 0:\n",
    "            visualization_img = ccgan.visualize()\n",
    "            visualization_img.show() if not in_notebook() else display(visualization_img)\n",
    "\n",
    "        # Check if a pending checkpoint upload has finished\n",
    "        if async_results:\n",
    "            gcapture_ready = all([r.ready() for r in async_results])\n",
    "            if gcapture_ready:\n",
    "                ccgan.logger.info(f'gcapture() finished')\n",
    "                if ccgan.latest_checkpoint_had_metrics:\n",
    "                    ccgan.logger.info(str(ccgan.latest_metrics))\n",
    "                async_results = None\n",
    "\n",
    "        # If run locally one pass is enough\n",
    "        if run_locally and gcapture_ready:\n",
    "            break\n",
    "\n",
    "    # If run locally one pass is enough\n",
    "    if run_locally:\n",
    "        break\n",
    "\n",
    "    # noinspection PyProtectedMember\n",
    "    d = {\n",
    "        'step': ccgan.step,\n",
    "        'initial_step': ccgan.initial_step,\n",
    "        'epoch': ccgan.epoch,\n",
    "        '_counter': ccgan._counter,\n",
    "        'epoch_inc': ccgan.epoch_inc,\n",
    "    }\n",
    "    ccgan.logger.debug('[END OF EPOCH] ' + str(d))\n",
    "\n",
    "# Check if a pending checkpoint exists\n",
    "if async_results:\n",
    "    ([r.wait() for r in async_results])\n",
    "    ccgan.logger.info(f'last gcapture() finished')\n",
    "    if ccgan.latest_checkpoint_had_metrics:\n",
    "        ccgan.logger.info(str(ccgan.latest_metrics))\n",
    "    async_results = None\n",
    "\n",
    "# Training finished!\n",
    "ccgan.logger.info('[training loop] DONE')"
   ]
  },
  {
   "cell_type": "code",
   "execution_count": null,
   "metadata": {},
   "outputs": [],
   "source": []
  },
  {
   "cell_type": "markdown",
   "metadata": {},
   "source": [
    "# 3) Evaluate CycleGAN\n",
    "In this section we evaluate the generation performance of our trained network using the SOTA GAN evaluation metrics."
   ]
  },
  {
   "cell_type": "markdown",
   "metadata": {},
   "source": [
    "## 3.1) Get the metrics evolution plots\n",
    "We plot how the metrics evolved during training. The GAN is **not** trained to minimize those metrics (they are\n",
    "calculated using `torch.no_grad()`) and thus this evolution merely depends on the network and showcases the  correlation between the GAN evaluation metrics, and the losses (e.g. adversarial & reconstruction) used to optimize the network."
   ]
  },
  {
   "cell_type": "code",
   "execution_count": null,
   "metadata": {},
   "outputs": [],
   "source": [
    "# Since the CycleGAN implements utils.ifaces.Visualizable, we can\n",
    "# directly call visualize_metrics() on the model instance.\n",
    "_ = ccgan.visualize_metrics(upload=True, preview=True)"
   ]
  },
  {
   "cell_type": "markdown",
   "metadata": {},
   "source": [
    "## 3.2) Evaluate Generated Samples\n",
    "In order to evaluate generated samples and compare model with other GAN architectures trained on the same dataset.\n",
    "For this purpose we will re-calculate the evaluation metrics as stated above, but with a much bigger number of samples. In this way, the metrics will be more trustworthy and comparable with the corresponding metrics in the original paper."
   ]
  },
  {
   "cell_type": "code",
   "execution_count": null,
   "metadata": {
    "pycharm": {
     "name": "#%%\n"
    }
   },
   "outputs": [],
   "source": [
    "# Initialize a new evaluator instance\n",
    "# (used to run GAN evaluation metrics: FID, IS, PRECISION, RECALL, F1 and SSIM)\n",
    "evaluator = GanEvaluator(model_fs_folder_or_root=models_groot, gen_dataset=dataloader.test_set, target_index=1,\n",
    "                         condition_indices=(0,), n_samples=10000, batch_size=128,\n",
    "                         device=exec_device, f1_k=f1_k, ssim_c_img=target_channels)\n",
    "\n",
    "# Run the evaluator\n",
    "metrics_dict = evaluator.evaluate(gen=ccgan.gen, metric_name='all', show_progress=True)\n",
    "\n",
    "# Print results\n",
    "import json\n",
    "\n",
    "print(json.dumps(metrics_dict, indent=4))\n",
    "\n"
   ]
  }
 ],
 "metadata": {
  "kernelspec": {
   "display_name": "Python 3",
   "language": "python",
   "name": "python3"
  },
  "language_info": {
   "codemirror_mode": {
    "name": "ipython",
    "version": 3
   },
   "file_extension": ".py",
   "mimetype": "text/x-python",
   "name": "python",
   "nbconvert_exporter": "python",
   "pygments_lexer": "ipython3",
   "version": "3.7.6"
  }
 },
 "nbformat": 4,
 "nbformat_minor": 5
}