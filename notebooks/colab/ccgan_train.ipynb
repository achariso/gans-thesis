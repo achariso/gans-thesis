{
 "cells": [
  {
   "cell_type": "markdown",
   "metadata": {
    "id": "gbPe-ZvX-NkH"
   },
   "source": [
    "# 1) Mount drive, unzip data, clone repo, install packages"
   ]
  },
  {
   "cell_type": "markdown",
   "metadata": {
    "id": "1AeDFep2-NkR"
   },
   "source": [
    "## 1.1) Mount Drive and define paths\n",
    "Run provided colab code to mount Google Drive. Then define dataset paths relative to mount point."
   ]
  },
  {
   "cell_type": "code",
   "execution_count": null,
   "metadata": {
    "id": "EvKC81RU-NkR",
    "pycharm": {
     "name": "#%%\n"
    }
   },
   "outputs": [],
   "source": [
    "!rm -rf '/content/sample_data'\n",
    "!rm -rf '/content/*.jpg'\n",
    "!rm -rf '/content/*.png'\n",
    "!rm -rf '/content/*.json'"
   ]
  },
  {
   "cell_type": "code",
   "execution_count": null,
   "metadata": {
    "id": "D5Z4kWQs-NkS",
    "pycharm": {
     "name": "#%%\n"
    }
   },
   "outputs": [],
   "source": [
    "# noinspection PyUnresolvedReferences,PyPackageRequirements\n",
    "from google.colab import drive\n",
    "\n",
    "mount_root_abs = '/content/drive'\n",
    "drive.mount(mount_root_abs)\n",
    "drive_root = f'{mount_root_abs}/MyDrive'"
   ]
  },
  {
   "cell_type": "code",
   "execution_count": null,
   "metadata": {
    "id": "LsbQGZcN-NkS",
    "pycharm": {
     "name": "#%%\n"
    }
   },
   "outputs": [],
   "source": [
    "import os\n",
    "\n",
    "# LookBook + (partially) DeepFashion In-shop Clothes Retrieval Benchmark (ICRB)\n",
    "h2s_root_drive = f'{drive_root}/Datasets/Bags2Shoes'\n",
    "assert os.path.exists(h2s_root_drive)\n",
    "h2s_img_zip_abs_drive = f'{h2s_root_drive}/handbags_64.hdf5'\n",
    "\n",
    "# Test if processed hdf5 file exists in dataset root\n",
    "assert os.path.exists(h2s_img_zip_abs_drive), f'Please upload the dataset files (handbags_64.hdf5, shoes_64.hdf5) ' + \\\n",
    "                                              f'in Google Drive. \\nTried: {h2s_img_zip_abs_drive}'"
   ]
  },
  {
   "cell_type": "markdown",
   "metadata": {
    "id": "ntYgqTyp-NkT"
   },
   "source": [
    "## 1.2) Clone GitHub repo\n",
    "Clone achariso/gans-thesis repo into /content/code using git clone.\n",
    "For more info see: https://medium.com/@purba0101/how-to-clone-private-github-repo-in-google-colab-using-ssh-77384cfef18f"
   ]
  },
  {
   "cell_type": "code",
   "execution_count": null,
   "metadata": {
    "id": "g1lIuIOm-NkT",
    "pycharm": {
     "name": "#%%\n"
    }
   },
   "outputs": [],
   "source": [
    "repo_root = '/content/code/gans-thesis'\n",
    "!rm -rf \"$repo_root\"\n",
    "if not os.path.exists(repo_root) and not os.path.exists(f'{repo_root}/requirements.txt'):\n",
    "    # Check that ssh keys exist\n",
    "    assert os.path.exists(f'{drive_root}/GitHub Keys')\n",
    "    id_rsa_abs_drive = f'{drive_root}/GitHub Keys/id_rsa'\n",
    "    id_rsa_pub_abs_drive = f'{id_rsa_abs_drive}.pub'\n",
    "    assert os.path.exists(id_rsa_abs_drive)\n",
    "    assert os.path.exists(id_rsa_pub_abs_drive)\n",
    "    # On first run: Add ssh key in repo\n",
    "    if not os.path.exists('/root/.ssh'):\n",
    "        # Transfer config file\n",
    "        ssh_config_abs_drive = f'{drive_root}/GitHub Keys/config'\n",
    "        assert os.path.exists(ssh_config_abs_drive)\n",
    "        !mkdir -p ~ /.ssh\n",
    "        !cp -f \"$ssh_config_abs_drive\" ~ /.ssh /\n",
    "        # # Add github.com to known hosts\n",
    "        !ssh-keyscan -t rsa github.com >> ~ /.ssh/known_hosts\n",
    "        # Test: !ssh -T git@github.com\n",
    "\n",
    "    # Remove any previous attempts\n",
    "    !rm -rf \"$repo_root\"\n",
    "    !mkdir -p \"$repo_root\"\n",
    "    # Clone repo\n",
    "    !git clone git@github.com:achariso/gans-thesis.git \"$repo_root\"\n",
    "    src_root = f'{repo_root}/src'\n",
    "    !rm -rf \"$repo_root\"/report"
   ]
  },
  {
   "cell_type": "markdown",
   "metadata": {
    "id": "Mt8BqZ75-NkU"
   },
   "source": [
    "## 1.3) Install pip packages\n",
    "All required files are stored in a requirements.txt files at the repository's root.\n",
    "Use `pip install -r requirements.txt` from inside the dir to install required packages."
   ]
  },
  {
   "cell_type": "code",
   "execution_count": 16,
   "metadata": {
    "id": "NAc139SU-NkU",
    "pycharm": {
     "name": "#%%\n"
    }
   },
   "outputs": [
    {
     "name": "stdout",
     "output_type": "stream",
     "text": [
      "/home/achariso/PycharmProjects/gans-thesis\n",
      "Requirement already satisfied: click in /home/achariso/anaconda3/envs/pytorch-env/lib/python3.8/site-packages (from -r requirements.txt (line 2)) (7.1.2)\n",
      "Requirement already satisfied: torch>=1.7.0 in /home/achariso/anaconda3/envs/pytorch-env/lib/python3.8/site-packages (from -r requirements.txt (line 3)) (1.7.1)\n",
      "Requirement already satisfied: torchvision in /home/achariso/anaconda3/envs/pytorch-env/lib/python3.8/site-packages (from -r requirements.txt (line 4)) (0.8.2)\n",
      "Requirement already satisfied: humanize in /home/achariso/anaconda3/envs/pytorch-env/lib/python3.8/site-packages (from -r requirements.txt (line 5)) (3.1.0)\n",
      "Requirement already satisfied: matplotlib==3.3.1 in /home/achariso/anaconda3/envs/pytorch-env/lib/python3.8/site-packages (from -r requirements.txt (line 6)) (3.3.1)\n",
      "Requirement already satisfied: colorlog in /home/achariso/anaconda3/envs/pytorch-env/lib/python3.8/site-packages (from -r requirements.txt (line 7)) (4.4.0)\n",
      "Requirement already satisfied: prettytable in /home/achariso/anaconda3/envs/pytorch-env/lib/python3.8/site-packages (from -r requirements.txt (line 8)) (2.0.0)\n",
      "Requirement already satisfied: requests in /home/achariso/anaconda3/envs/pytorch-env/lib/python3.8/site-packages (from -r requirements.txt (line 9)) (2.24.0)\n",
      "Requirement already satisfied: tqdm in /home/achariso/anaconda3/envs/pytorch-env/lib/python3.8/site-packages (from -r requirements.txt (line 10)) (4.50.2)\n",
      "Requirement already satisfied: numpy in /home/achariso/anaconda3/envs/pytorch-env/lib/python3.8/site-packages (from -r requirements.txt (line 11)) (1.19.2)\n",
      "Requirement already satisfied: Pillow in /home/achariso/anaconda3/envs/pytorch-env/lib/python3.8/site-packages (from -r requirements.txt (line 12)) (8.0.1)\n",
      "Requirement already satisfied: ipython in /home/achariso/anaconda3/envs/pytorch-env/lib/python3.8/site-packages (from -r requirements.txt (line 13)) (7.21.0)\n",
      "Requirement already satisfied: scipy in /home/achariso/anaconda3/envs/pytorch-env/lib/python3.8/site-packages (from -r requirements.txt (line 14)) (1.5.2)\n",
      "Requirement already satisfied: httplib2==0.15.0 in /home/achariso/anaconda3/envs/pytorch-env/lib/python3.8/site-packages (from -r requirements.txt (line 15)) (0.15.0)\n",
      "Requirement already satisfied: oauth2client in /home/achariso/anaconda3/envs/pytorch-env/lib/python3.8/site-packages (from -r requirements.txt (line 16)) (4.1.3)\n",
      "Requirement already satisfied: google-api-python-client in /home/achariso/anaconda3/envs/pytorch-env/lib/python3.8/site-packages (from -r requirements.txt (line 17)) (1.12.8)\n",
      "Requirement already satisfied: pydrive in /home/achariso/anaconda3/envs/pytorch-env/lib/python3.8/site-packages (from -r requirements.txt (line 18)) (1.3.1)\n",
      "Requirement already satisfied: tensorboard in /home/achariso/anaconda3/envs/pytorch-env/lib/python3.8/site-packages (from -r requirements.txt (line 19)) (2.2.1)\n",
      "Requirement already satisfied: pyyaml in /home/achariso/anaconda3/envs/pytorch-env/lib/python3.8/site-packages (from -r requirements.txt (line 20)) (5.3.1)\n",
      "Requirement already satisfied: h5py in /home/achariso/anaconda3/envs/pytorch-env/lib/python3.8/site-packages (from -r requirements.txt (line 21)) (2.10.0)\n",
      "Requirement already satisfied: certifi>=2020.06.20 in /home/achariso/anaconda3/envs/pytorch-env/lib/python3.8/site-packages (from matplotlib==3.3.1->-r requirements.txt (line 6)) (2020.12.5)\n",
      "Requirement already satisfied: pyparsing!=2.0.4,!=2.1.2,!=2.1.6,>=2.0.3 in /home/achariso/anaconda3/envs/pytorch-env/lib/python3.8/site-packages (from matplotlib==3.3.1->-r requirements.txt (line 6)) (2.4.7)\n",
      "Requirement already satisfied: cycler>=0.10 in /home/achariso/anaconda3/envs/pytorch-env/lib/python3.8/site-packages (from matplotlib==3.3.1->-r requirements.txt (line 6)) (0.10.0)\n",
      "Requirement already satisfied: kiwisolver>=1.0.1 in /home/achariso/anaconda3/envs/pytorch-env/lib/python3.8/site-packages (from matplotlib==3.3.1->-r requirements.txt (line 6)) (1.3.1)\n",
      "Requirement already satisfied: python-dateutil>=2.1 in /home/achariso/anaconda3/envs/pytorch-env/lib/python3.8/site-packages (from matplotlib==3.3.1->-r requirements.txt (line 6)) (2.8.1)\n",
      "Requirement already satisfied: typing_extensions in /home/achariso/anaconda3/envs/pytorch-env/lib/python3.8/site-packages (from torch>=1.7.0->-r requirements.txt (line 3)) (3.7.4.3)\n",
      "Requirement already satisfied: six in /home/achariso/anaconda3/envs/pytorch-env/lib/python3.8/site-packages (from cycler>=0.10->matplotlib==3.3.1->-r requirements.txt (line 6)) (1.15.0)\n",
      "Requirement already satisfied: google-auth>=1.16.0 in /home/achariso/anaconda3/envs/pytorch-env/lib/python3.8/site-packages (from google-api-python-client->-r requirements.txt (line 17)) (1.27.1)\n",
      "Requirement already satisfied: google-auth-httplib2>=0.0.3 in /home/achariso/anaconda3/envs/pytorch-env/lib/python3.8/site-packages (from google-api-python-client->-r requirements.txt (line 17)) (0.0.4)\n",
      "Requirement already satisfied: uritemplate<4dev,>=3.0.0 in /home/achariso/anaconda3/envs/pytorch-env/lib/python3.8/site-packages (from google-api-python-client->-r requirements.txt (line 17)) (3.0.1)\n",
      "Requirement already satisfied: google-api-core<2dev,>=1.21.0 in /home/achariso/anaconda3/envs/pytorch-env/lib/python3.8/site-packages (from google-api-python-client->-r requirements.txt (line 17)) (1.24.1)\n",
      "Requirement already satisfied: setuptools>=34.0.0 in /home/achariso/anaconda3/envs/pytorch-env/lib/python3.8/site-packages (from google-api-core<2dev,>=1.21.0->google-api-python-client->-r requirements.txt (line 17)) (52.0.0.post20210125)\n",
      "Requirement already satisfied: googleapis-common-protos<2.0dev,>=1.6.0 in /home/achariso/anaconda3/envs/pytorch-env/lib/python3.8/site-packages (from google-api-core<2dev,>=1.21.0->google-api-python-client->-r requirements.txt (line 17)) (1.52.0)\n",
      "Requirement already satisfied: pytz in /home/achariso/anaconda3/envs/pytorch-env/lib/python3.8/site-packages (from google-api-core<2dev,>=1.21.0->google-api-python-client->-r requirements.txt (line 17)) (2020.5)\n",
      "Requirement already satisfied: protobuf>=3.12.0 in /home/achariso/anaconda3/envs/pytorch-env/lib/python3.8/site-packages (from google-api-core<2dev,>=1.21.0->google-api-python-client->-r requirements.txt (line 17)) (3.14.0)\n",
      "Requirement already satisfied: idna<3,>=2.5 in /home/achariso/anaconda3/envs/pytorch-env/lib/python3.8/site-packages (from requests->-r requirements.txt (line 9)) (2.10)\n",
      "Requirement already satisfied: chardet<4,>=3.0.2 in /home/achariso/anaconda3/envs/pytorch-env/lib/python3.8/site-packages (from requests->-r requirements.txt (line 9)) (3.0.4)\n",
      "Requirement already satisfied: urllib3!=1.25.0,!=1.25.1,<1.26,>=1.21.1 in /home/achariso/anaconda3/envs/pytorch-env/lib/python3.8/site-packages (from requests->-r requirements.txt (line 9)) (1.25.11)\n",
      "Requirement already satisfied: cachetools<5.0,>=2.0.0 in /home/achariso/anaconda3/envs/pytorch-env/lib/python3.8/site-packages (from google-auth>=1.16.0->google-api-python-client->-r requirements.txt (line 17)) (4.2.1)\n",
      "Requirement already satisfied: rsa<5,>=3.1.4 in /home/achariso/anaconda3/envs/pytorch-env/lib/python3.8/site-packages (from google-auth>=1.16.0->google-api-python-client->-r requirements.txt (line 17)) (4.7.2)\n",
      "Requirement already satisfied: pyasn1-modules>=0.2.1 in /home/achariso/anaconda3/envs/pytorch-env/lib/python3.8/site-packages (from google-auth>=1.16.0->google-api-python-client->-r requirements.txt (line 17)) (0.2.8)\n",
      "Requirement already satisfied: pyasn1<0.5.0,>=0.4.6 in /home/achariso/anaconda3/envs/pytorch-env/lib/python3.8/site-packages (from pyasn1-modules>=0.2.1->google-auth>=1.16.0->google-api-python-client->-r requirements.txt (line 17)) (0.4.8)\n",
      "Requirement already satisfied: decorator in /home/achariso/anaconda3/envs/pytorch-env/lib/python3.8/site-packages (from ipython->-r requirements.txt (line 13)) (4.4.2)\n",
      "Requirement already satisfied: traitlets>=4.2 in /home/achariso/anaconda3/envs/pytorch-env/lib/python3.8/site-packages (from ipython->-r requirements.txt (line 13)) (5.0.5)\n",
      "Requirement already satisfied: pygments in /home/achariso/anaconda3/envs/pytorch-env/lib/python3.8/site-packages (from ipython->-r requirements.txt (line 13)) (2.8.1)\n",
      "Requirement already satisfied: pexpect>4.3 in /home/achariso/anaconda3/envs/pytorch-env/lib/python3.8/site-packages (from ipython->-r requirements.txt (line 13)) (4.8.0)\n",
      "Requirement already satisfied: pickleshare in /home/achariso/anaconda3/envs/pytorch-env/lib/python3.8/site-packages (from ipython->-r requirements.txt (line 13)) (0.7.5)\n",
      "Requirement already satisfied: backcall in /home/achariso/anaconda3/envs/pytorch-env/lib/python3.8/site-packages (from ipython->-r requirements.txt (line 13)) (0.2.0)\n",
      "Requirement already satisfied: jedi>=0.16 in /home/achariso/anaconda3/envs/pytorch-env/lib/python3.8/site-packages (from ipython->-r requirements.txt (line 13)) (0.17.0)\n",
      "Requirement already satisfied: prompt-toolkit!=3.0.0,!=3.0.1,<3.1.0,>=2.0.0 in /home/achariso/anaconda3/envs/pytorch-env/lib/python3.8/site-packages (from ipython->-r requirements.txt (line 13)) (3.0.8)\n",
      "Requirement already satisfied: parso>=0.7.0 in /home/achariso/anaconda3/envs/pytorch-env/lib/python3.8/site-packages (from jedi>=0.16->ipython->-r requirements.txt (line 13)) (0.8.1)\n",
      "Requirement already satisfied: ptyprocess>=0.5 in /home/achariso/anaconda3/envs/pytorch-env/lib/python3.8/site-packages (from pexpect>4.3->ipython->-r requirements.txt (line 13)) (0.7.0)\n",
      "Requirement already satisfied: wcwidth in /home/achariso/anaconda3/envs/pytorch-env/lib/python3.8/site-packages (from prompt-toolkit!=3.0.0,!=3.0.1,<3.1.0,>=2.0.0->ipython->-r requirements.txt (line 13)) (0.2.5)\n",
      "Requirement already satisfied: ipython-genutils in /home/achariso/anaconda3/envs/pytorch-env/lib/python3.8/site-packages (from traitlets>=4.2->ipython->-r requirements.txt (line 13)) (0.2.0)\n"
     ]
    },
    {
     "name": "stdout",
     "output_type": "stream",
     "text": [
      "Requirement already satisfied: wheel>=0.26 in /home/achariso/anaconda3/envs/pytorch-env/lib/python3.8/site-packages (from tensorboard->-r requirements.txt (line 19)) (0.36.2)\n",
      "Requirement already satisfied: google-auth-oauthlib<0.5,>=0.4.1 in /home/achariso/anaconda3/envs/pytorch-env/lib/python3.8/site-packages (from tensorboard->-r requirements.txt (line 19)) (0.4.3)\n",
      "Requirement already satisfied: werkzeug>=0.11.15 in /home/achariso/anaconda3/envs/pytorch-env/lib/python3.8/site-packages (from tensorboard->-r requirements.txt (line 19)) (1.0.1)\n",
      "Requirement already satisfied: markdown>=2.6.8 in /home/achariso/anaconda3/envs/pytorch-env/lib/python3.8/site-packages (from tensorboard->-r requirements.txt (line 19)) (3.3.4)\n",
      "Requirement already satisfied: absl-py>=0.4 in /home/achariso/anaconda3/envs/pytorch-env/lib/python3.8/site-packages (from tensorboard->-r requirements.txt (line 19)) (0.12.0)\n",
      "Requirement already satisfied: tensorboard-plugin-wit>=1.6.0 in /home/achariso/anaconda3/envs/pytorch-env/lib/python3.8/site-packages (from tensorboard->-r requirements.txt (line 19)) (1.6.0)\n",
      "Requirement already satisfied: grpcio>=1.24.3 in /home/achariso/anaconda3/envs/pytorch-env/lib/python3.8/site-packages (from tensorboard->-r requirements.txt (line 19)) (1.36.1)\n",
      "Requirement already satisfied: requests-oauthlib>=0.7.0 in /home/achariso/anaconda3/envs/pytorch-env/lib/python3.8/site-packages (from google-auth-oauthlib<0.5,>=0.4.1->tensorboard->-r requirements.txt (line 19)) (1.3.0)\n",
      "Requirement already satisfied: oauthlib>=3.0.0 in /home/achariso/anaconda3/envs/pytorch-env/lib/python3.8/site-packages (from requests-oauthlib>=0.7.0->google-auth-oauthlib<0.5,>=0.4.1->tensorboard->-r requirements.txt (line 19)) (3.1.0)\n"
     ]
    }
   ],
   "source": [
    "%cd \"$repo_root\"\n",
    "!pip install -r requirements.txt"
   ]
  },
  {
   "cell_type": "code",
   "execution_count": 17,
   "metadata": {
    "id": "AQRIhKXs-NkU",
    "pycharm": {
     "name": "#%%\n"
    }
   },
   "outputs": [],
   "source": [
    "import torch\n",
    "\n",
    "assert torch.cuda.is_available()"
   ]
  },
  {
   "cell_type": "markdown",
   "metadata": {
    "id": "EhZWMWMu-NkU"
   },
   "source": [
    "## 1.4) Add code/, */src/ to path\n",
    "This is necessary in order to be able to run the modules."
   ]
  },
  {
   "cell_type": "code",
   "execution_count": 3,
   "metadata": {
    "id": "gq1Tph8v-NkU",
    "pycharm": {
     "name": "#%%\n"
    }
   },
   "outputs": [
    {
     "name": "stdout",
     "output_type": "stream",
     "text": [
      "zsh:1: unmatched \"\r\n"
     ]
    }
   ],
   "source": [
    "content_root_abs = f'{repo_root}'\n",
    "src_root_abs = f'{repo_root}/src'\n",
    "%env PYTHONPATH=\"/env/python:$content_root_abs:$src_root_abs\""
   ]
  },
  {
   "cell_type": "markdown",
   "metadata": {
    "id": "Uy6DRL0S-NkU"
   },
   "source": [
    "# 2) Train CycleGAN model on Bags2Shoes_64 dataset\n",
    "In this section we run the actual training loop for CycleGAN network. CycleGAN consists of two cross-domain generators\n",
    "and, in our version, two PatchGAN discriminators."
   ]
  },
  {
   "cell_type": "markdown",
   "metadata": {
    "id": "8N0L9AAV-NkV"
   },
   "source": [
    "### Colab Bug Workaround\n",
    "Bug: matplotlib cache not rebuilding.\n",
    "Solution: Run the following code and then restart the kernel.\n"
   ]
  },
  {
   "cell_type": "code",
   "execution_count": null,
   "metadata": {
    "id": "aFgK5mX5-NkV",
    "pycharm": {
     "name": "#%%\n"
    }
   },
   "outputs": [],
   "source": [
    "# now inside train_ccgan.py\n",
    "# os.kill(os.getpid(), 9)"
   ]
  },
  {
   "cell_type": "markdown",
   "metadata": {
    "id": "vLpuOKli-NkV"
   },
   "source": [
    "### Actual Run\n",
    "Eventually, run the code!"
   ]
  },
  {
   "cell_type": "code",
   "execution_count": null,
   "metadata": {
    "id": "q3v3ab5x-NkV",
    "pycharm": {
     "name": "#%%\n"
    }
   },
   "outputs": [],
   "source": [
    "chkpt_step = 'latest'  # supported: 'latest', <int>, None\n",
    "log_level = 'debug'    # supported: 'debug', 'info', 'warning', 'error', 'critical', 'fatal'\n",
    "device = 'cuda'        # supported: 'cpu', 'cuda', 'cuda:<GPU_INDEX>'\n",
    "\n",
    "# From epoch=37, lambda_recon in G2's loss went from 1 --> 5\n",
    "# From epoch=66, lambda_recon in G2's loss went from 5 --> 10\n",
    "\n",
    "# Running with -i enables us to get variables defined inside the script (the script runs inline)\n",
    "%run -i src/train_setup.py --log_level $log_level --chkpt_step $chkpt_step --seed 42 --device $device\n"
   ]
  },
  {
   "cell_type": "markdown",
   "metadata": {
    "id": "cwqTPmw9-NkV",
    "pycharm": {
     "name": "#%% md\n"
    }
   },
   "source": [
    "### CycleGAN Training\n",
    "\n",
    "Setup/preparation before starting CycleGAN training loop.\n"
   ]
  },
  {
   "cell_type": "code",
   "execution_count": null,
   "metadata": {
    "id": "wfgy14_N-NkW",
    "pycharm": {
     "name": "#%%\n"
    }
   },
   "outputs": [],
   "source": [
    "%cd 'src/'\n",
    "\n",
    "import torch\n",
    "from IPython.core.display import display\n",
    "from torch import Tensor\n",
    "from torch.nn import DataParallel\n",
    "# noinspection PyProtectedMember\n",
    "from torch.utils.data import DataLoader\n",
    "\n",
    "from datasets.bags2shoes import Bags2ShoesDataset, Bags2ShoesDataloader\n",
    "from modules.cycle_gan import CycleGAN\n",
    "from utils.dep_free import get_tqdm\n",
    "from utils.ifaces import FilesystemDataset\n",
    "from utils.metrics import GanEvaluator\n",
    "\n",
    "###################################\n",
    "###  Hyper-parameters settings  ###\n",
    "###################################\n",
    "# TODO: finish this notebook and train in Colab/Kaggle\n",
    "#   - training\n",
    "n_epochs = 300\n",
    "batch_size = 256 if not run_locally else 2\n",
    "train_test_splits = [90, 10]  # for a 90% training - 10% evaluation set split\n",
    "#   - evaluation\n",
    "metrics_n_samples = 1000 if not run_locally else 2\n",
    "metrics_batch_size = 64 if not run_locally else 1\n",
    "f1_k = 3 if not run_locally else 1\n",
    "#   - visualizations / checkpoints steps\n",
    "display_step = 200\n",
    "checkpoint_step = 600\n",
    "metrics_step = 1800  # evaluate model every 3 checkpoints\n",
    "#   - dataset\n",
    "target_shape = 64\n",
    "target_channels = 3\n",
    "#   - CycleGAN configuration\n",
    "ccgan_config_id = f'default'  # as proposed in the original paper\n",
    "\n",
    "###################################\n",
    "###   Dataset Initialization    ###\n",
    "###################################\n",
    "#   - image transforms:\n",
    "#     If target_shape is different from load one, resize & crop. If target_shape is different from load shape,\n",
    "#     convert to grayscale.\n",
    "#     Update: Now done automatically if you set target_channels, target_shape when instantiating the dataloader.\n",
    "gen_transforms = Bags2ShoesDataset.get_image_transforms(target_shape=target_shape, target_channels=target_channels)\n",
    "#   - the dataloader used to access the training dataset of cross-scale/pose image pairs at every epoch\n",
    "#     > len(dataloader) = <number of batches>\n",
    "#     > len(dataloader.dataset) = <number of total dataset items>\n",
    "dataloader = Bags2ShoesDataloader(dataset_fs_folder_or_root=datasets_groot, batch_size=batch_size,\n",
    "                                  image_transforms=gen_transforms, splits=train_test_splits,\n",
    "                                  pin_memory=not run_locally, log_level=log_level)\n",
    "dataset = dataloader.dataset  # save training dataset as `dataset`\n",
    "#   - ensure dataset is fetched locally and unzipped\n",
    "if isinstance(dataset, FilesystemDataset):\n",
    "    dataset.fetch_and_unzip(in_parallel=False, show_progress=True)\n",
    "elif hasattr(dataset, 'dataset') and isinstance(dataset.dataset, FilesystemDataset):\n",
    "    dataset.dataset.fetch_and_unzip(in_parallel=False, show_progress=True)\n",
    "else:\n",
    "    raise TypeError('dataset must implement utils.ifaces.FilesystemDataset in order to be auto-downloaded and unzipped')\n",
    "#   - apply rudimentary tests\n",
    "assert issubclass(dataloader.__class__, DataLoader)\n",
    "assert len(dataloader) == len(dataset) // batch_size + (1 if len(dataset) % batch_size else 0)\n",
    "_bags, _shoes = next(iter(dataloader))\n",
    "assert tuple(_bags.shape) == (batch_size, target_channels, target_shape, target_shape)\n",
    "assert tuple(_shoes.shape) == (batch_size, target_channels, target_shape, target_shape)\n",
    "\n",
    "###################################\n",
    "###    Models Initialization    ###\n",
    "###################################\n",
    "#   - initialize evaluator instance (used to run GAN evaluation metrics: FID, IS, PRECISION, RECALL, F1 and SSIM)\n",
    "evaluator = GanEvaluator(model_fs_folder_or_root=models_groot, gen_dataset=dataset, target_index=1, device=exec_device,\n",
    "                         condition_indices=(0,), n_samples=metrics_n_samples, batch_size=metrics_batch_size,\n",
    "                         f1_k=f1_k)\n",
    "#   - initialize model\n",
    "chkpt_step = args.chkpt_step\n",
    "try:\n",
    "    if chkpt_step == 'latest':\n",
    "        ccgan_chkpt_step = chkpt_step\n",
    "    elif isinstance(chkpt_step, str) and chkpt_step.isdigit():\n",
    "        ccgan_chkpt_step = int(chkpt_step)\n",
    "    else:\n",
    "        ccgan_chkpt_step = None\n",
    "except NameError:\n",
    "    ccgan_chkpt_step = None\n",
    "ccgan = CycleGAN(model_fs_folder_or_root=models_groot, config_id=ccgan_config_id, dataset_len=len(dataset),\n",
    "                 chkpt_epoch=ccgan_chkpt_step, evaluator=evaluator, device=exec_device, log_level=log_level)\n",
    "ccgan.logger.debug(f'Using device: {str(exec_device)}')\n",
    "ccgan.logger.debug(f'Model initialized. Number of params = {ccgan.nparams_hr}')\n",
    "# FIX: Warmup counters before first batch\n",
    "if ccgan.step is None:\n",
    "    ccgan.gforward(batch_size=batch_size)\n",
    "    ccgan.logger.debug(f'Model warmed-up (internal counters).')\n",
    "#   - setup multi-GPU training\n",
    "if torch.cuda.device_count() > 1:\n",
    "    ccgan.gen = DataParallel(ccgan.gen)\n",
    "    ccgan.info(f'Using {torch.cuda.device_count()} GPUs for CycleGAN Generator (via torch.nn.DataParallel)')\n",
    "#   - load dataloader state (from model checkpoint)\n",
    "if 'dataloader' in ccgan.other_state_dicts.keys():\n",
    "    dataloader.set_state(ccgan.other_state_dicts['dataloader'])\n",
    "    ccgan.logger.debug(f'Loaded dataloader state! Current pem_index={dataloader.get_state()[\"perm_index\"]}')\n"
   ]
  },
  {
   "cell_type": "markdown",
   "metadata": {
    "id": "Ghwkg85n-NkX"
   },
   "source": [
    "### CycleGAN Main training loop\n",
    "\n",
    "Start/continue training CycleGAN until reaching the desired number of epochs.\n"
   ]
  },
  {
   "cell_type": "code",
   "execution_count": null,
   "metadata": {
    "id": "RwWCR4-O-NkX",
    "pycharm": {
     "name": "#%%\n"
    }
   },
   "outputs": [],
   "source": [
    "###################################\n",
    "###       Training Loop         ###\n",
    "###################################\n",
    "#   - get the correct tqdm instance\n",
    "exec_tqdm = get_tqdm()\n",
    "#   - start training loop from last checkpoint's epoch and step\n",
    "gcapture_ready = True\n",
    "async_results = None\n",
    "ccgan.logger.info(f'[training loop] STARTING (epoch={ccgan.epoch}, step={ccgan.initial_step})')\n",
    "for epoch in range(ccgan.epoch, n_epochs):\n",
    "    # noinspection PyProtectedMember\n",
    "    d = {\n",
    "        'step': ccgan.step,\n",
    "        'initial_step': ccgan.initial_step,\n",
    "        'epoch': ccgan.epoch,\n",
    "        '_counter': ccgan._counter,\n",
    "        'epoch_inc': ccgan.epoch_inc,\n",
    "    }\n",
    "    # initial_step = ccgan.initial_step % len(dataloader)\n",
    "    ccgan.logger.debug('[START OF EPOCH] ' + str(d))\n",
    "\n",
    "    bags: Tensor\n",
    "    shoes: Tensor\n",
    "    for bags, shoes in exec_tqdm(dataloader, initial=ccgan.initial_step):\n",
    "        # Transfer image batches to GPU\n",
    "        bags = bags.to(exec_device)\n",
    "        shoes = shoes.to(exec_device)\n",
    "\n",
    "        # Perform a forward + backward pass + weight update on the Generator & Discriminator models\n",
    "        disc_loss, gen_loss = ccgan(bags, shoes)\n",
    "\n",
    "        # Metrics & Checkpoint Code\n",
    "        if ccgan.step % checkpoint_step == 0:\n",
    "            # Check if another upload is pending\n",
    "            if not gcapture_ready and async_results:\n",
    "                # Wait for previous upload to finish\n",
    "                ccgan.logger.warning('Waiting for previous gcapture() to finish...')\n",
    "                [r.wait() for r in async_results]\n",
    "                ccgan.logger.warning('DONE! Starting new capture now.')\n",
    "            # Capture current model state, including metrics and visualizations\n",
    "            async_results = ccgan.gcapture(checkpoint=True, metrics=ccgan.step % metrics_step == 0, visualizations=True,\n",
    "                                           dataloader=dataloader, in_parallel=True, show_progress=True,\n",
    "                                           delete_after=False)\n",
    "        # Visualization code\n",
    "        elif ccgan.step % display_step == 0:\n",
    "            visualization_img = ccgan.visualize()\n",
    "            visualization_img.show() if not in_notebook() else display(visualization_img)\n",
    "\n",
    "        # Check if a pending checkpoint upload has finished\n",
    "        if async_results:\n",
    "            gcapture_ready = all([r.ready() for r in async_results])\n",
    "            if gcapture_ready:\n",
    "                ccgan.logger.info(f'gcapture() finished')\n",
    "                if ccgan.latest_checkpoint_had_metrics:\n",
    "                    ccgan.logger.info(str(ccgan.latest_metrics))\n",
    "                async_results = None\n",
    "\n",
    "        # If run locally one pass is enough\n",
    "        if run_locally and gcapture_ready:\n",
    "            break\n",
    "\n",
    "    # If run locally one pass is enough\n",
    "    if run_locally:\n",
    "        break\n",
    "\n",
    "    # noinspection PyProtectedMember\n",
    "    d = {\n",
    "        'step': ccgan.step,\n",
    "        'initial_step': ccgan.initial_step,\n",
    "        'epoch': ccgan.epoch,\n",
    "        '_counter': ccgan._counter,\n",
    "        'epoch_inc': ccgan.epoch_inc,\n",
    "    }\n",
    "    ccgan.logger.debug('[END OF EPOCH] ' + str(d))\n",
    "\n",
    "# Check if a pending checkpoint exists\n",
    "if async_results:\n",
    "    ([r.wait() for r in async_results])\n",
    "    ccgan.logger.info(f'last gcapture() finished')\n",
    "    if ccgan.latest_checkpoint_had_metrics:\n",
    "        ccgan.logger.info(str(ccgan.latest_metrics))\n",
    "    async_results = None\n",
    "\n",
    "# Training finished!\n",
    "ccgan.logger.info('[training loop] DONE')\n"
   ]
  },
  {
   "cell_type": "markdown",
   "metadata": {
    "id": "_IBJPgDI-NkY"
   },
   "source": [
    "# 3) Evaluate CycleGAN\n",
    "In this section we evaluate the generation performance of our trained network using the SOTA GAN evaluation metrics."
   ]
  },
  {
   "cell_type": "markdown",
   "metadata": {
    "id": "TwtVO9vH-NkY"
   },
   "source": [
    "## 3.1) Get the metrics evolution plots\n",
    "We plot how the metrics evolved during training. The GAN is **not** trained to minimize those metrics (they are\n",
    "calculated using `torch.no_grad()`) and thus this evolution merely depends on the network and showcases the correlation\n",
    "between the GAN evaluation metrics, and the losses (e.g. adversarial & reconstruction) used to optimize the network."
   ]
  },
  {
   "cell_type": "code",
   "execution_count": null,
   "metadata": {
    "id": "rpNgcsLr-NkY",
    "pycharm": {
     "name": "#%%\n"
    }
   },
   "outputs": [],
   "source": [
    "# Since the CycleGAN implements utils.ifaces.Visualizable, we can\n",
    "# directly call visualize_metrics() on the model instance.\n",
    "_ = ccgan.visualize_metrics(upload=True, preview=True)"
   ]
  },
  {
   "cell_type": "markdown",
   "metadata": {
    "id": "SsYiy5gP-NkY"
   },
   "source": [
    "## 3.2) Evaluate Generated Samples\n",
    "In order to evaluate generated samples and compare model with other GAN architectures trained on the same dataset.\n",
    "For this purpose we will re-calculate the evaluation metrics as stated above, but with a much bigger number of samples.\n",
    "In this way, the metrics will be more trustworthy and comparable with the corresponding metrics in the original paper.\n"
   ]
  },
  {
   "cell_type": "code",
   "execution_count": null,
   "metadata": {
    "id": "wqL_pDkc-NkZ",
    "pycharm": {
     "name": "#%%\n"
    }
   },
   "outputs": [],
   "source": [
    "# Initialize a new evaluator instance\n",
    "# (used to run GAN evaluation metrics: FID, IS, PRECISION, RECALL, F1 and SSIM)\n",
    "evaluator = GanEvaluator(model_fs_folder_or_root=models_groot, gen_dataset=dataloader.test_set, target_index=1,\n",
    "                         condition_indices=(0,), n_samples=10000, batch_size=metrics_batch_size,\n",
    "                         device=exec_device, f1_k=f1_k, ssim_c_img=target_channels)\n",
    "\n",
    "# Run the evaluator\n",
    "metrics_dict = evaluator.evaluate(gen=ccgan.gen, metric_name='all', show_progress=True)\n",
    "\n",
    "# Print results\n",
    "import json\n",
    "\n",
    "print(json.dumps(metrics_dict, indent=4))"
   ]
  }
 ],
 "metadata": {
  "accelerator": "GPU",
  "colab": {
   "name": "pxldtg_debug.ipynb",
   "provenance": [],
   "toc_visible": true
  },
  "kernelspec": {
   "display_name": "Python 3",
   "language": "python",
   "name": "python3"
  },
  "language_info": {
   "codemirror_mode": {
    "name": "ipython",
    "version": 3
   },
   "file_extension": ".py",
   "mimetype": "text/x-python",
   "name": "python",
   "nbconvert_exporter": "python",
   "pygments_lexer": "ipython3",
   "version": "3.8.5"
  }
 },
 "nbformat": 4,
 "nbformat_minor": 1
}