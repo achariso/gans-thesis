{
 "nbformat": 4,
 "nbformat_minor": 0,
 "metadata": {
  "colab": {
   "name": "update_checkpoints.ipynb",
   "provenance": [],
   "collapsed_sections": [
    "cwqTPmw9-NkV"
   ]
  },
  "kernelspec": {
   "display_name": "Python 3",
   "language": "python",
   "name": "python3"
  },
  "language_info": {
   "codemirror_mode": {
    "name": "ipython",
    "version": 3
   },
   "file_extension": ".py",
   "mimetype": "text/x-python",
   "name": "python",
   "nbconvert_exporter": "python",
   "pygments_lexer": "ipython3",
   "version": "3.8.5"
  }
 },
 "cells": [
  {
   "cell_type": "markdown",
   "metadata": {
    "id": "gbPe-ZvX-NkH"
   },
   "source": [
    "# 1) Mount drive, unzip data, clone repo, install packages"
   ]
  },
  {
   "cell_type": "markdown",
   "metadata": {
    "id": "1AeDFep2-NkR"
   },
   "source": [
    "## 1.1) Mount Drive and define paths\n",
    "Run provided colab code to mount Google Drive. Then define dataset paths relative to mount point."
   ]
  },
  {
   "cell_type": "code",
   "metadata": {
    "id": "EvKC81RU-NkR",
    "pycharm": {
     "name": "#%%\n"
    }
   },
   "source": [
    "!rm -rf '/content/sample_data'\n",
    "!rm -rf '/content/*.jpg'\n",
    "!rm -rf '/content/*.png'\n",
    "!rm -rf '/content/*.json'"
   ],
   "execution_count": null,
   "outputs": []
  },
  {
   "cell_type": "code",
   "metadata": {
    "id": "D5Z4kWQs-NkS",
    "pycharm": {
     "name": "#%%\n"
    }
   },
   "source": [
    "# noinspection PyUnresolvedReferences,PyPackageRequirements\n",
    "from google.colab import drive\n",
    "\n",
    "mount_root_abs = '/content/drive'\n",
    "drive.mount(mount_root_abs)\n",
    "drive_root = f'{mount_root_abs}/MyDrive'"
   ],
   "execution_count": null,
   "outputs": []
  },
  {
   "cell_type": "markdown",
   "metadata": {
    "id": "ntYgqTyp-NkT"
   },
   "source": [
    "## 1.2) Clone GitHub repo\n",
    "Clone achariso/gans-thesis repo into /content/code using git clone.\n",
    "For more info see: https://medium.com/@purba0101/how-to-clone-private-github-repo-in-google-colab-using-ssh-77384cfef18f"
   ]
  },
  {
   "cell_type": "code",
   "metadata": {
    "id": "g1lIuIOm-NkT",
    "pycharm": {
     "name": "#%%\n"
    }
   },
   "source": [
    "import os\n",
    "\n",
    "repo_root = '/content/code/gans-thesis'\n",
    "!rm -rf \"$repo_root\"\n",
    "if not os.path.exists(repo_root) and not os.path.exists(f'{repo_root}/requirements.txt'):\n",
    "    # Check that ssh keys exist\n",
    "    assert os.path.exists(f'{drive_root}/GitHub Keys')\n",
    "    id_rsa_abs_drive = f'{drive_root}/GitHub Keys/id_rsa'\n",
    "    id_rsa_pub_abs_drive = f'{id_rsa_abs_drive}.pub'\n",
    "    assert os.path.exists(id_rsa_abs_drive)\n",
    "    assert os.path.exists(id_rsa_pub_abs_drive)\n",
    "    # On first run: Add ssh key in repo\n",
    "    if not os.path.exists('/root/.ssh'):\n",
    "        # Transfer config file\n",
    "        ssh_config_abs_drive = f'{drive_root}/GitHub Keys/config'\n",
    "        assert os.path.exists(ssh_config_abs_drive)\n",
    "        !mkdir -p ~/.ssh\n",
    "        !cp -f \"$ssh_config_abs_drive\" ~/.ssh/\n",
    "        # # Add github.com to known hosts\n",
    "        !ssh-keyscan -t rsa github.com >> ~/.ssh/known_hosts\n",
    "        # Test: !ssh -T git@github.com\n",
    "\n",
    "    # Remove any previous attempts\n",
    "    !rm -rf \"$repo_root\"\n",
    "    !mkdir -p \"$repo_root\"\n",
    "    # Clone repo\n",
    "    !git clone git@github.com:achariso/gans-thesis.git \"$repo_root\"\n",
    "    src_root = f'{repo_root}/src'\n",
    "    !rm -rf \"$repo_root\"/report"
   ],
   "execution_count": null,
   "outputs": []
  },
  {
   "cell_type": "markdown",
   "metadata": {
    "id": "Mt8BqZ75-NkU"
   },
   "source": [
    "## 1.3) Install pip packages\n",
    "All required files are stored in a requirements.txt files at the repository's root.\n",
    "Use `pip install -r requirements.txt` from inside the dir to install required packages."
   ]
  },
  {
   "cell_type": "code",
   "metadata": {
    "id": "NAc139SU-NkU",
    "pycharm": {
     "name": "#%%\n"
    }
   },
   "source": [
    "%cd \"$repo_root\"\n",
    "!pip install -r requirements.txt"
   ],
   "execution_count": null,
   "outputs": []
  },
  {
   "cell_type": "code",
   "metadata": {
    "id": "n1kPTKrE57sL"
   },
   "source": [
    "# import os\n",
    "# os.kill(os.getpid(), 9)"
   ],
   "execution_count": null,
   "outputs": []
  },
  {
   "cell_type": "code",
   "metadata": {
    "id": "AQRIhKXs-NkU",
    "pycharm": {
     "name": "#%%\n"
    }
   },
   "source": [
    "import torch"
   ],
   "execution_count": null,
   "outputs": []
  },
  {
   "cell_type": "markdown",
   "metadata": {
    "id": "EhZWMWMu-NkU"
   },
   "source": [
    "## 1.4) Add code/, */src/ to path\n",
    "This is necessary in order to be able to run the modules."
   ]
  },
  {
   "cell_type": "code",
   "metadata": {
    "id": "gq1Tph8v-NkU",
    "pycharm": {
     "name": "#%%\n"
    }
   },
   "source": [
    "content_root_abs = f'{repo_root}'\n",
    "src_root_abs = f'{repo_root}/src'\n",
    "%env PYTHONPATH=\"/env/python:$content_root_abs:$src_root_abs\""
   ],
   "execution_count": null,
   "outputs": []
  },
  {
   "cell_type": "markdown",
   "metadata": {
    "id": "Uy6DRL0S-NkU"
   },
   "source": [
    "# 2) Update model checkpoints\n",
    "Initially, define the model name. Then define a function to handle each checkpoint. Then we'll see..."
   ]
  },
  {
   "cell_type": "markdown",
   "metadata": {
    "id": "vLpuOKli-NkV"
   },
   "source": [
    "### Run setup for basic setup.\n",
    "This sets-up access to GoogleDrive via custom accessors, the tqdm instance etc..."
   ]
  },
  {
   "cell_type": "code",
   "metadata": {
    "id": "q3v3ab5x-NkV",
    "pycharm": {
     "name": "#%%\n"
    }
   },
   "source": [
    "chkpt_step = 'latest'  # supported: 'latest', <int>, None\n",
    "log_level = 'debug'    # supported: 'debug', 'info', 'warning', 'error', 'critical', 'fatal'\n",
    "device = 'cpu'         # supported: 'cpu', 'cuda', 'cuda:<GPU_INDEX>'\n",
    "\n",
    "# Running with -i enables us to get variables defined inside the script (the script runs inline)\n",
    "%run -i src/train_setup.py --log_level $log_level --chkpt_step $chkpt_step --seed 42 --device $device\n"
   ],
   "execution_count": null,
   "outputs": []
  },
  {
   "cell_type": "code",
   "metadata": {
    "id": "ebxKNa31d3Qi"
   },
   "source": [
    "%cd 'src/'\n",
    "\n",
    "import torch\n",
    "from IPython.core.display import display\n",
    "from torch import Tensor\n",
    "from torch.nn import DataParallel\n",
    "# noinspection PyProtectedMember\n",
    "from torch.utils.data import DataLoader\n",
    "\n",
    "from datasets.bags2shoes import Bags2ShoesDataset, Bags2ShoesDataloader\n",
    "from modules.cycle_gan import CycleGAN\n",
    "from utils.dep_free import get_tqdm\n",
    "from utils.ifaces import FilesystemDataset\n",
    "from utils.metrics import GanEvaluator\n"
   ],
   "execution_count": null,
   "outputs": []
  },
  {
   "cell_type": "markdown",
   "metadata": {
    "id": "cwqTPmw9-NkV",
    "pycharm": {
     "name": "#%% md\n"
    }
   },
   "source": [
    "### Instantiate model\n",
    "Create a new instance of model that implements utils.filesystems.gdrive.GDriveModel interface.\n"
   ]
  },
  {
   "cell_type": "code",
   "metadata": {
    "id": "ar_wPLlfavwD"
   },
   "source": [
    "# CycleGAN\n",
    "ccgan_config_id = '64_MSE_L1_L1_2_9_2_9_64_4_1e4_false_false_false'  # as proposed in DiscoGAN paper\n",
    "ccgan = CycleGAN(model_fs_folder_or_root=models_groot, config_id=ccgan_config_id,\n",
    "                 device=exec_device, log_level=log_level)\n",
    "ccgan.logger.debug(f'Using device: {str(exec_device)}')"
   ],
   "execution_count": null,
   "outputs": []
  },
  {
   "cell_type": "markdown",
   "metadata": {
    "id": "BfhcUBLqU0Jd"
   },
   "source": [
    "### Define mutator function\n",
    "This is used to update an individual checkpoint."
   ]
  },
  {
   "cell_type": "code",
   "metadata": {
    "id": "P8COjhBIU_mX"
   },
   "source": [
    "def checkpoint_mutator(state_dict: dict, epoch: int, logger=None) -> dict:\n",
    "    if 'batch_size' not in state_dict[\"gforward\"].keys():\n",
    "        state_dict['gforward']['batch_size'] = 128\n",
    "    logger.info(f'        {state_dict[\"gforward\"].keys()}')\n",
    "    return state_dict"
   ],
   "execution_count": null,
   "outputs": []
  },
  {
   "cell_type": "markdown",
   "metadata": {
    "id": "sXK2_ANbawUr"
   },
   "source": [
    "### Loop through all model checkpoints\n",
    "The GDriveModel class defines a method to walk all checkpoints: GDriveModel::list_checkpoints().\n"
   ]
  },
  {
   "cell_type": "code",
   "metadata": {
    "id": "wfgy14_N-NkW",
    "pycharm": {
     "name": "#%%\n"
    }
   },
   "source": [
    "for epoch,checkpoints in ccgan.list_all_checkpoints().items():\n",
    "    ccgan.logger.debug(f'Processing epoch={epoch} (found {len(checkpoints)} checkpoint(s))')\n",
    "    for chkpt in checkpoints:\n",
    "        ccgan.logger.debug(f'    [START] {chkpt.name}')\n",
    "        # Load Checkpoint\n",
    "        state_dict = torch.load(chkpt.path, map_location='cpu')\n",
    "        # Edit Checkpoint\n",
    "        state_dict = checkpoint_mutator(state_dict, epoch, ccgan.logger)\n",
    "        # Save Checkpoint\n",
    "        torch.save(state_dict, chkpt.path)\n",
    "        ccgan.logger.debug(f'    [DONE]')\n"
   ],
   "execution_count": null,
   "outputs": []
  },
  {
   "cell_type": "code",
   "metadata": {
    "id": "Lf9V4uk1nf3q"
   },
   "source": [
    "sd = torch.load(ccgan.list_all_checkpoints()[30][0].path, map_location='cpu')"
   ],
   "execution_count": null,
   "outputs": []
  },
  {
   "cell_type": "code",
   "metadata": {
    "id": "TqZcwE4Lnvgs"
   },
   "source": [
    "counter = sd['gforward']['_counter']\n",
    "step = sd['gforward']['step']\n",
    "bs = sd['gforward']['batch_size']\n",
    "\n",
    "sd['gforward']"
   ],
   "execution_count": null,
   "outputs": []
  },
  {
   "cell_type": "code",
   "metadata": {
    "id": "oDRWdcEUvv9p"
   },
   "source": [
    "(15323 - (15323 % 128)) // 128"
   ],
   "execution_count": null,
   "outputs": []
  }
 ]
}