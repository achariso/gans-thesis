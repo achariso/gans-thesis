{
  "nbformat": 4,
  "nbformat_minor": 0,
  "metadata": {
    "colab": {
      "name": "visualize.ipynb",
      "provenance": [],
      "collapsed_sections": [
        "cwqTPmw9-NkV"
      ]
    },
    "kernelspec": {
      "display_name": "Python 3",
      "language": "python",
      "name": "python3"
    },
    "language_info": {
      "codemirror_mode": {
        "name": "ipython",
        "version": 3
      },
      "file_extension": ".py",
      "mimetype": "text/x-python",
      "name": "python",
      "nbconvert_exporter": "python",
      "pygments_lexer": "ipython3",
      "version": "3.8.5"
    },
    "accelerator": "GPU"
  },
  "cells": [
    {
      "cell_type": "markdown",
      "metadata": {
        "id": "gbPe-ZvX-NkH"
      },
      "source": [
        "# 1) Mount drive, unzip data, clone repo, install packages"
      ]
    },
    {
      "cell_type": "markdown",
      "metadata": {
        "id": "1AeDFep2-NkR"
      },
      "source": [
        "## 1.1) Mount Drive and define paths\n",
        "Run provided colab code to mount Google Drive. Then define dataset paths relative to mount point."
      ]
    },
    {
      "cell_type": "code",
      "metadata": {
        "id": "EvKC81RU-NkR",
        "pycharm": {
          "name": "#%%\n"
        }
      },
      "source": [
        "!rm -rf '/content/sample_data'\n",
        "!rm -rf '/content/*.jpg'\n",
        "!rm -rf '/content/*.png'\n",
        "!rm -rf '/content/*.json'"
      ],
      "execution_count": null,
      "outputs": []
    },
    {
      "cell_type": "code",
      "metadata": {
        "id": "D5Z4kWQs-NkS",
        "pycharm": {
          "name": "#%%\n"
        }
      },
      "source": [
        "# noinspection PyUnresolvedReferences,PyPackageRequirements\n",
        "from google.colab import drive\n",
        "\n",
        "mount_root_abs = '/content/drive'\n",
        "drive.mount(mount_root_abs)\n",
        "drive_root = f'{mount_root_abs}/MyDrive'"
      ],
      "execution_count": null,
      "outputs": []
    },
    {
      "cell_type": "markdown",
      "metadata": {
        "id": "ntYgqTyp-NkT"
      },
      "source": [
        "## 1.2) Clone GitHub repo\n",
        "Clone achariso/gans-thesis repo into /content/code using git clone.\n",
        "For more info see: https://medium.com/@purba0101/how-to-clone-private-github-repo-in-google-colab-using-ssh-77384cfef18f"
      ]
    },
    {
      "cell_type": "code",
      "metadata": {
        "id": "g1lIuIOm-NkT",
        "pycharm": {
          "name": "#%%\n"
        }
      },
      "source": [
        "import os\n",
        "\n",
        "repo_root = '/content/code/gans-thesis'\n",
        "!rm -rf \"$repo_root\"\n",
        "if not os.path.exists(repo_root) and not os.path.exists(f'{repo_root}/requirements.txt'):\n",
        "    # Check that ssh keys exist\n",
        "    assert os.path.exists(f'{drive_root}/GitHub Keys')\n",
        "    id_rsa_abs_drive = f'{drive_root}/GitHub Keys/id_rsa'\n",
        "    id_rsa_pub_abs_drive = f'{id_rsa_abs_drive}.pub'\n",
        "    assert os.path.exists(id_rsa_abs_drive)\n",
        "    assert os.path.exists(id_rsa_pub_abs_drive)\n",
        "    # On first run: Add ssh key in repo\n",
        "    if not os.path.exists('/root/.ssh'):\n",
        "        # Transfer config file\n",
        "        ssh_config_abs_drive = f'{drive_root}/GitHub Keys/config'\n",
        "        assert os.path.exists(ssh_config_abs_drive)\n",
        "        !mkdir -p ~/.ssh\n",
        "        !cp -f \"$ssh_config_abs_drive\" ~/.ssh/\n",
        "        # # Add github.com to known hosts\n",
        "        !ssh-keyscan -t rsa github.com >> ~/.ssh/known_hosts\n",
        "        # Test: !ssh -T git@github.com\n",
        "\n",
        "    # Remove any previous attempts\n",
        "    !rm -rf \"$repo_root\"\n",
        "    !mkdir -p \"$repo_root\"\n",
        "    # Clone repo\n",
        "    !git clone git@github.com:achariso/gans-thesis.git \"$repo_root\"\n",
        "    src_root = f'{repo_root}/src'\n",
        "    !rm -rf \"$repo_root\"/report"
      ],
      "execution_count": null,
      "outputs": []
    },
    {
      "cell_type": "markdown",
      "metadata": {
        "id": "Mt8BqZ75-NkU"
      },
      "source": [
        "## 1.3) Install pip packages\n",
        "All required files are stored in a requirements.txt files at the repository's root.\n",
        "Use `pip install -r requirements.txt` from inside the dir to install required packages."
      ]
    },
    {
      "cell_type": "code",
      "metadata": {
        "id": "NAc139SU-NkU",
        "pycharm": {
          "name": "#%%\n"
        }
      },
      "source": [
        "%cd \"$repo_root\"\n",
        "!pip install -r requirements.txt"
      ],
      "execution_count": null,
      "outputs": []
    },
    {
      "cell_type": "code",
      "metadata": {
        "id": "n1kPTKrE57sL"
      },
      "source": [
        "# import os\n",
        "# os.kill(os.getpid(), 9)"
      ],
      "execution_count": null,
      "outputs": []
    },
    {
      "cell_type": "code",
      "metadata": {
        "id": "AQRIhKXs-NkU",
        "pycharm": {
          "name": "#%%\n"
        }
      },
      "source": [
        "import torch"
      ],
      "execution_count": null,
      "outputs": []
    },
    {
      "cell_type": "markdown",
      "metadata": {
        "id": "EhZWMWMu-NkU"
      },
      "source": [
        "## 1.4) Add code/, */src/ to path\n",
        "This is necessary in order to be able to run the modules."
      ]
    },
    {
      "cell_type": "code",
      "metadata": {
        "id": "gq1Tph8v-NkU",
        "pycharm": {
          "name": "#%%\n"
        }
      },
      "source": [
        "content_root_abs = f'{repo_root}'\n",
        "src_root_abs = f'{repo_root}/src'\n",
        "%env PYTHONPATH=\"/env/python:$content_root_abs:$src_root_abs\""
      ],
      "execution_count": null,
      "outputs": []
    },
    {
      "cell_type": "markdown",
      "metadata": {
        "id": "Uy6DRL0S-NkU"
      },
      "source": [
        "# 2) Update model checkpoints\n",
        "Initially, define the model name. Then define a function to handle each checkpoint. Then we'll see..."
      ]
    },
    {
      "cell_type": "markdown",
      "metadata": {
        "id": "vLpuOKli-NkV"
      },
      "source": [
        "### Run setup for basic setup.\n",
        "This sets-up access to GoogleDrive via custom accessors, the tqdm instance etc..."
      ]
    },
    {
      "cell_type": "code",
      "metadata": {
        "id": "q3v3ab5x-NkV",
        "pycharm": {
          "name": "#%%\n"
        }
      },
      "source": [
        "chkpt_step = None      # supported: 'latest', <int>, None\n",
        "log_level = 'debug'    # supported: 'debug', 'info', 'warning', 'error', 'critical', 'fatal'\n",
        "device = 'cpu'         # supported: 'cpu', 'cuda', 'cuda:<GPU_INDEX>'\n",
        "\n",
        "# Running with -i enables us to get variables defined inside the script (the script runs inline)\n",
        "%run -i src/train_setup.py --log_level $log_level --chkpt_step $chkpt_step --seed 42 --device $device"
      ],
      "execution_count": null,
      "outputs": []
    },
    {
      "cell_type": "code",
      "metadata": {
        "id": "ebxKNa31d3Qi"
      },
      "source": [
        "%cd 'src/'\n",
        "\n",
        "import torch\n",
        "from IPython.core.display import display\n",
        "from torch import Tensor\n",
        "# noinspection PyProtectedMember\n",
        "from torch.utils.data import DataLoader\n",
        "from utils.dep_free import get_tqdm\n",
        "from utils.ifaces import FilesystemDataset\n"
      ],
      "execution_count": null,
      "outputs": []
    },
    {
      "cell_type": "code",
      "metadata": {
        "id": "cwqTPmw9-NkV",
        "pycharm": {
          "name": "#%%\n"
        }
      },
      "source": [
        "from modules.pgpg import PGPG\n",
        "from modules.pixel_dt_gan import PixelDTGan\n",
        "from modules.cycle_gan import CycleGAN\n",
        "from modules.stylegan import StyleGan\n",
        "\n",
        "# PGPG\n",
        "pgpg_config_id = '128_MSE_256_6_4_5_none_none_1e4_true_false_false'\n",
        "pgpg = PGPG(model_fs_folder_or_root=models_groot, config_id=pgpg_config_id,\n",
        "            device=exec_device, log_level=log_level)\n",
        "pgpg.logger.debug(f'[PGPG] Starting visualization in device: {str(exec_device)}')\n",
        "#   - visualize\n",
        "pgpg.visualize_losses(dict_keys=('gen', 'disc', ('gen', 'disc')), upload=True, preview=True, extract_dicts=True)\n",
        "pgpg.visualize_metrics(upload=True, preview=True)\n",
        "\n",
        "# PixelDTGAN\n",
        "pxldtgan_config_id = 'default'  # as proposed in DiscoGAN paper\n",
        "pxldtgan = PixelDTGan(model_fs_folder_or_root=models_groot, config_id=pxldtgan_config_id,\n",
        "                      device=exec_device, log_level=log_level)\n",
        "pxldtgan.logger.debug(f'[PixelDTGan] Starting visualization in device: {str(exec_device)}')\n",
        "#   - visualize\n",
        "pxldtgan.visualize_losses(dict_keys=('gen', 'disc_r', 'disc_a', ('gen', 'disc_r'), ('gen', 'disc_a'), ('disc_r', 'disc_a')), upload=True, preview=True, extract_dicts=True)\n",
        "pxldtgan.visualize_metrics(upload=True, preview=True)\n",
        "\n",
        "# CycleGAN\n",
        "ccgan_config_id = 'discogan'\n",
        "ccgan = CycleGAN(model_fs_folder_or_root=models_groot, config_id=ccgan_config_id,\n",
        "                 device=exec_device, log_level=log_level)\n",
        "ccgan.logger.debug(f'[CycleGAN] Starting visualization in device: {str(exec_device)}')\n",
        "#   - visualize\n",
        "ccgan.visualize_losses(dict_keys=('gen', 'disc', ('gen', 'disc')), upload=True, preview=True, extract_dicts=True)\n",
        "ccgan.visualize_metrics(upload=True, preview=True)\n",
        "\n",
        "# StyleGAN\n",
        "stgan_config_id = 'default_z512'\n",
        "stgan = StyleGan(model_fs_folder_or_root=models_groot, config_id=stgan_config_id,\n",
        "                 device=exec_device, log_level=log_level)\n",
        "stgan.logger.debug(f'[StyleGan] Starting visualization in device: {str(exec_device)}')\n",
        "#   - visualize\n",
        "stgan.visualize_losses(dict_keys=('gen', 'disc', ('gen', 'disc')), upload=True, preview=True, extract_dicts=True)\n",
        "stgan.visualize_metrics(upload=True, preview=True)"
      ],
      "execution_count": null,
      "outputs": []
    }
  ]
}
