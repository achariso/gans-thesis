{
 "cells": [
  {
   "cell_type": "markdown",
   "source": [
    "# 1) Mount drive, unzip data, clone repo, install packages"
   ],
   "metadata": {
    "collapsed": false
   }
  },
  {
   "cell_type": "markdown",
   "source": [
    "## 1.1) Mount Drive and define paths\n",
    "Run provided colab code to mount Google Drive. Then define dataset paths relative to mount point."
   ],
   "metadata": {
    "collapsed": false
   }
  },
  {
   "cell_type": "code",
   "execution_count": null,
   "outputs": [],
   "source": [
    "!rm -rf /content/sample_data\n",
    "!rm -rf /content/*.jpg\n",
    "!rm -rf /content/*.png\n",
    "!rm -rf /content/*.json"
   ],
   "metadata": {
    "collapsed": false,
    "pycharm": {
     "name": "#%%\n"
    }
   }
  },
  {
   "cell_type": "code",
   "execution_count": null,
   "outputs": [],
   "source": [
    "# noinspection PyUnresolvedReferences\n",
    "from google.colab import drive\n",
    "mount_root_abs = '/content/drive'\n",
    "drive.mount(mount_root_abs)\n",
    "drive_root = f'{mount_root_abs}/MyDrive'"
   ],
   "metadata": {
    "collapsed": false,
    "pycharm": {
     "name": "#%%\n"
    }
   }
  },
  {
   "cell_type": "code",
   "execution_count": null,
   "outputs": [],
   "source": [
    "import os\n",
    "# DeepFashion In-shop Clothes Retrieval Benchmark (ICRB)\n",
    "df_root_drive = f'{drive_root}/Datasets/DeepFashion'\n",
    "assert os.path.exists(df_root_drive)\n",
    "df_icrb_root_drive = f'{df_root_drive}/In-shop Clothes Retrieval Benchmark'\n",
    "assert os.path.exists(df_icrb_root_drive)\n",
    "df_icrb_img_zip_abs_drive = f'{df_icrb_root_drive}/Img.zip'\n",
    "\n",
    "# If Img.zip is not present, we need to unzip .../Img/img_iuv.zip directory \n",
    "# from drive root and then run ICRBScraper.run() from /src/dataset/deep_fashion.\n",
    "# For this nb, we skip this since it'll take an eternity to complete with \n",
    "# mounted Google Drive.\n",
    "assert os.path.exists(df_icrb_img_zip_abs_drive), \\\n",
    "  'Please upload a processed zip (processing img.zip in colab will take' + \\\n",
    "  f' for AGES). \\nTried: {df_icrb_img_zip_abs_drive}'"
   ],
   "metadata": {
    "collapsed": false,
    "pycharm": {
     "name": "#%%\n"
    }
   }
  },
  {
   "cell_type": "markdown",
   "source": [
    "## 1.2) Unzip Img directory in Colab\n",
    "By unzipping the Img_processed.zip in Colab before running our model we gain significant disk reading speedups.  \n",
    "So, the first step is to unzip images directory, and then save the image directory before proceeding."
   ],
   "metadata": {
    "collapsed": false
   }
  },
  {
   "cell_type": "code",
   "execution_count": null,
   "outputs": [],
   "source": [
    "df_icrb_root = df_icrb_root_drive.replace(drive_root, '/content/data')\n",
    "df_icrb_img_root = f'{df_icrb_root}/Img'\n",
    "if not os.path.exists(df_icrb_img_root):\n",
    "  # Clear any previous attempts\n",
    "  # ATTENTION: This will remove /contents/data/*. So, before running, please make \n",
    "  # sure no usable files will be deleted.\n",
    "  !mkdir -p /content/data\n",
    "  !rm -rf /content/data\n",
    "\n",
    "  # Create output directory\n",
    "  !mkdir -p \"$df_icrb_root\"\n",
    "\n",
    "  # Transfer Img.zip from Google Drive to Colab\n",
    "  df_icrb_img_zip_abs = f'{df_icrb_root}/{os.path.basename(df_icrb_img_zip_abs_drive)}'\n",
    "  if not os.path.exists(df_icrb_img_zip_abs):\n",
    "    !cp \"$df_icrb_img_zip_abs_drive\" \"$df_icrb_root\"\n",
    "  # Unzip it in Colab\n",
    "  !unzip -q \"$df_icrb_img_zip_abs\" -d \"$df_icrb_root\"\n",
    "  # Handle newly-created image directory\n",
    "  assert os.path.exists(df_icrb_img_root), f'df_icrb_img_root: {df_icrb_img_root}'\n",
    "  assert not os.path.exists(f'{df_icrb_img_root}/Img')\n",
    "  assert not os.path.exists(f'{df_icrb_img_root}/img')\n",
    "  !rm -f \"$df_icrb_img_zip_abs\"\n",
    "  assert not os.path.exists(df_icrb_img_zip_abs)"
   ],
   "metadata": {
    "collapsed": false,
    "pycharm": {
     "name": "#%%\n"
    }
   }
  },
  {
   "cell_type": "markdown",
   "source": [
    "## 1.3) Clone github repo\n",
    "Clone achariso/gans-thesis repo into /content/code\n",
    " using git clone.  \n",
    " For more info see: https://medium.com/@purba0101/how-to-clone-private-github-repo-in-google-colab-using-ssh-77384cfef18f"
   ],
   "metadata": {
    "collapsed": false
   }
  },
  {
   "cell_type": "code",
   "execution_count": null,
   "outputs": [],
   "source": [
    "repo_root = '/content/code/gans-thesis'\n",
    "if not os.path.exists(repo_root) and not os.path.exists(f'{repo_root}/requirements.txt'):\n",
    "  # Check that ssh keys exist\n",
    "  assert os.path.exists(f'{drive_root}/GitHub Keys')\n",
    "  id_rsa_abs_drive = f'{drive_root}/GitHub Keys/id_rsa'\n",
    "  id_rsa_pub_abs_drive = f'{id_rsa_abs_drive}.pub'\n",
    "  assert os.path.exists(id_rsa_abs_drive)\n",
    "  assert os.path.exists(id_rsa_pub_abs_drive)\n",
    "  # On first run: Add ssh key in repo\n",
    "  # !cat \"$id_rsa_pub_abs_drive\", copy & paste in repo's Deploy Keys\n",
    "  # Transfer config file\n",
    "  ssh_config_abs_drive = f'{drive_root}/GitHub Keys/config'\n",
    "  assert os.path.exists(ssh_config_abs_drive)\n",
    "  !mkdir -p ~/.ssh\n",
    "  !cp -f \"$ssh_config_abs_drive\" ~/.ssh/\n",
    "  # # Add github.com to known hosts\n",
    "  !ssh-keyscan -t rsa github.com >> ~/.ssh/known_hosts\n",
    "  # Test: !ssh -T git@github.com\n",
    "\n",
    "  # Remove any previous attempts\n",
    "  !mkdir -p \"$repo_root\"\n",
    "  !rm -rf \"$repo_root\"\n",
    "  !mkdir -p \"$repo_root\"\n",
    "  # Clone repo\n",
    "  !git clone git@github.com:achariso/gans-thesis.git \"$repo_root\"\n",
    "  src_root = f'{repo_root}/src'\n",
    "  !rm -rf \"$repo_root\"/report"
   ],
   "metadata": {
    "collapsed": false,
    "pycharm": {
     "name": "#%%\n"
    }
   }
  },
  {
   "cell_type": "markdown",
   "source": [
    "## 1.4) Install pip packages\n",
    "All required files are stored in a requirements.txt files at the repository's root.\n",
    "Use `pip install -r requirements.txt` from inside the dir to install required packages."
   ],
   "metadata": {
    "collapsed": false
   }
  },
  {
   "cell_type": "code",
   "execution_count": null,
   "outputs": [],
   "source": [
    "%cd $repo_root\n",
    "!pip install -r requirements.txt"
   ],
   "metadata": {
    "collapsed": false,
    "pycharm": {
     "name": "#%%\n"
    }
   }
  },
  {
   "cell_type": "code",
   "execution_count": null,
   "outputs": [],
   "source": [
    "import torch\n",
    "assert torch.cuda.is_available()"
   ],
   "metadata": {
    "collapsed": false,
    "pycharm": {
     "name": "#%%\n"
    }
   }
  },
  {
   "cell_type": "markdown",
   "source": [
    "## 1.6) Add code/, */src/ to path\n",
    "This is necessary in order to be able to run the modules."
   ],
   "metadata": {
    "collapsed": false
   }
  },
  {
   "cell_type": "code",
   "execution_count": null,
   "outputs": [],
   "source": [
    "content_root_abs = f'{repo_root}'\n",
    "src_root_abs = f'{repo_root}/src'\n",
    "%env PYTHONPATH=\"/env/python:$content_root_abs:$src_root_abs\n",
    "%env PATH=\"$PATH:$content_root_abs:$src_root_abs"
   ],
   "metadata": {
    "collapsed": false,
    "pycharm": {
     "name": "#%%\n"
    }
   }
  },
  {
   "cell_type": "markdown",
   "source": [
    "# 2) Test code\n",
    "Test that pulled code is running by running its tests."
   ],
   "metadata": {
    "collapsed": false
   }
  },
  {
   "cell_type": "code",
   "execution_count": null,
   "outputs": [],
   "source": [
    "import matplotlib.pyplot as plt\n",
    "\n",
    "# Fix: Adjust figure size for better plotting in Colab\n",
    "plt.rcParams[\"figure.figsize\"] = (20, 20)"
   ],
   "metadata": {
    "collapsed": false,
    "pycharm": {
     "name": "#%%\n"
    }
   }
  },
  {
   "cell_type": "code",
   "execution_count": null,
   "outputs": [],
   "source": [
    "%run src/main.py"
   ],
   "metadata": {
    "collapsed": false,
    "pycharm": {
     "name": "#%%\n"
    }
   }
  },
  {
   "cell_type": "code",
   "execution_count": null,
   "outputs": [],
   "source": [
    "test_root = f'{repo_root}/tests'\n",
    "!python -m unittest discover -s \"$test_root\" -t \"$test_root\""
   ],
   "metadata": {
    "collapsed": false,
    "pycharm": {
     "name": "#%%\n"
    }
   }
  }
 ],
 "metadata": {
  "kernelspec": {
   "display_name": "Python 3",
   "language": "python",
   "name": "python3"
  },
  "language_info": {
   "codemirror_mode": {
    "name": "ipython",
    "version": 2
   },
   "file_extension": ".py",
   "mimetype": "text/x-python",
   "name": "python",
   "nbconvert_exporter": "python",
   "pygments_lexer": "ipython2",
   "version": "2.7.6"
  }
 },
 "nbformat": 4,
 "nbformat_minor": 0
}